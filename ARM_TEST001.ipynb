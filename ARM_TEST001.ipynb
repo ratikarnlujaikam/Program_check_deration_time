{
 "cells": [
  {
   "cell_type": "code",
   "execution_count": 16,
   "metadata": {},
   "outputs": [],
   "source": [
    "import pandas as pd\n",
    "import numpy as np\n",
    "import datetime\n",
    "Date= datetime.datetime.now().date()\n",
    "Line='3-6'\n",
    "Model='LONGSP'\n",
    "Startdate=datetime.datetime.now().date()-datetime.timedelta(150)\n",
    "finishDate=datetime.datetime.now().date()-datetime.timedelta(1)\n"
   ]
  },
  {
   "cell_type": "code",
   "execution_count": 17,
   "metadata": {},
   "outputs": [],
   "source": [
    "KPOV_DATA = [\"Datum_probe\", \"Max_force\", \"Set_Dim_A\", \"Set_Dim_B\",\"Set_Dim_C\"]\n",
    "KPIV_DATA = [\"Projection1\"]"
   ]
  },
  {
   "cell_type": "code",
   "execution_count": 18,
   "metadata": {},
   "outputs": [
    {
     "name": "stderr",
     "output_type": "stream",
     "text": [
      "C:\\Users\\IT\\AppData\\Local\\Temp\\ipykernel_10424\\2168282789.py:38: UserWarning: pandas only supports SQLAlchemy connectable (engine/connection) or database string URI or sqlite3 DBAPI2 connection. Other DBAPI2 objects are not tested. Please consider using SQLAlchemy.\n",
      "  datasets = pd.read_sql(query, cnxn)\n"
     ]
    },
    {
     "name": "stdout",
     "output_type": "stream",
     "text": [
      "       Projection1  Datum_probe  Max_force  Set_Dim_A  Set_Dim_B  Set_Dim_C  \\\n",
      "0           0.5229   683.169983       1768     0.5205     0.5125     0.5170   \n",
      "1           0.5230   522.030029       1414     0.5095     0.5101     0.5155   \n",
      "2           0.5197   533.390015       1547     0.5237     0.5128     0.5159   \n",
      "3           0.5405   525.820007       1456     0.5165     0.5032     0.5190   \n",
      "4           0.5453   528.690002       1177     0.5122     0.5079     0.5237   \n",
      "...            ...          ...        ...        ...        ...        ...   \n",
      "99995       0.4804   690.429993       1308     0.5275     0.5101     0.4980   \n",
      "99996       0.5010   542.179993        389     0.5128     0.5129     0.5079   \n",
      "99997       0.5128   533.020020       1407     0.5125     0.5142     0.5136   \n",
      "99998       0.5296   532.469971       1391     0.5277     0.5279     0.5286   \n",
      "99999       0.5093   688.229980       1421     0.5071     0.4983     0.5031   \n",
      "\n",
      "       Projection1  \n",
      "0           0.5229  \n",
      "1           0.5230  \n",
      "2           0.5197  \n",
      "3           0.5405  \n",
      "4           0.5453  \n",
      "...            ...  \n",
      "99995       0.4804  \n",
      "99996       0.5010  \n",
      "99997       0.5128  \n",
      "99998       0.5296  \n",
      "99999       0.5093  \n",
      "\n",
      "[100000 rows x 7 columns]\n"
     ]
    }
   ],
   "source": [
    "import pandas as pd\n",
    "import pyodbc\n",
    "import pandas as pd\n",
    "\n",
    "# Connect to the SQL Server database\n",
    "server = '192.168.101.219'\n",
    "database = 'DataforAnalysis'\n",
    "username = 'DATALYZER'\n",
    "password = 'NMB54321'\n",
    "\n",
    "cnxn = pyodbc.connect('DRIVER={SQL Server};SERVER='+server+';DATABASE='+database+';UID='+username+';PWD='+ password)\n",
    "cursor = cnxn.cursor()\n",
    "# Your list of column names\n",
    "\n",
    "# Convert the list of column names into a comma-separated string\n",
    "KPOV = ', '.join(KPOV_DATA)\n",
    "KPIV = ', '.join(KPIV_DATA)\n",
    "\n",
    "# Define your Model, Startdate, and finishDate variables\n",
    "Model = 'LONGSP'\n",
    "Startdate=datetime.datetime.now().date()-datetime.timedelta(150)\n",
    "finishDate=datetime.datetime.now().date()-datetime.timedelta(1)\n",
    "\n",
    "# Generate the SQL query using a for loop\n",
    "query = f\"\"\"\n",
    "SELECT {KPOV},{KPIV}\n",
    "FROM [Diecast].[dbo].[Pivot]\n",
    "JOIN [TransportData].[dbo].[Matching_Auto_Unit1] ON [Pivot].Diecast_S_N=[Matching_Auto_Unit1].Barcode_Base\n",
    "JOIN [DataforAnalysis].[dbo].[DataML_Test] ON [DataML_Test].Barcode_motor=[Matching_Auto_Unit1].Barcode_Motor\n",
    "WHERE [DataML_Test].[Model] = '{Model}' \n",
    "AND [DataML_Test].[Line] = '{Line}' \n",
    "AND [DataML_Test].[Date] BETWEEN '{Startdate}' and '{finishDate}'\n",
    "AND ([Projection1] is not null and [Datum_probe] is not null and [Max_force] is not null and\n",
    "     [Set_Dim_A] is not null and [Set_Dim_B] is not null and [Set_Dim_C] is not null and\n",
    "     [Diecast_Pivot_2] is not null) and [Projection1] != '0' and [Projection1] > 0 and [Projection1] < 1;\n",
    "\"\"\"\n",
    "\n",
    "datasets = pd.read_sql(query, cnxn)\n",
    "print(datasets.head(100000))\n",
    "\n"
   ]
  },
  {
   "cell_type": "code",
   "execution_count": 19,
   "metadata": {},
   "outputs": [
    {
     "name": "stdout",
     "output_type": "stream",
     "text": [
      "         Projection1    Datum_probe      Max_force      Set_Dim_A  \\\n",
      "count  530052.000000  530052.000000  530052.000000  530052.000000   \n",
      "mean        0.519817     607.948620    1080.256807       0.516845   \n",
      "std         0.015671      74.351151     425.616251       0.009142   \n",
      "min         0.110800     144.289993      40.000000       0.281900   \n",
      "25%         0.509600     534.359985     738.000000       0.511400   \n",
      "50%         0.519900     557.429993    1034.000000       0.516900   \n",
      "75%         0.530100     681.460022    1399.000000       0.522500   \n",
      "max         0.948100     876.280029    3465.000000       0.888900   \n",
      "\n",
      "           Set_Dim_B      Set_Dim_C    Projection1  \n",
      "count  530052.000000  530052.000000  530052.000000  \n",
      "mean        0.513903       0.516438       0.519817  \n",
      "std         0.009780       0.008462       0.015671  \n",
      "min         0.200000       0.272300       0.110800  \n",
      "25%         0.507900       0.511100       0.509600  \n",
      "50%         0.514400       0.516800       0.519900  \n",
      "75%         0.520400       0.522100       0.530100  \n",
      "max         0.830800       0.661100       0.948100  \n"
     ]
    }
   ],
   "source": [
    "# Calculate summary statistics for all columns\n",
    "summary = datasets.describe(include='all')\n",
    "# Print the summary statistics\n",
    "print(summary)\n"
   ]
  }
 ],
 "metadata": {
  "kernelspec": {
   "display_name": "Python 3",
   "language": "python",
   "name": "python3"
  },
  "language_info": {
   "codemirror_mode": {
    "name": "ipython",
    "version": 3
   },
   "file_extension": ".py",
   "mimetype": "text/x-python",
   "name": "python",
   "nbconvert_exporter": "python",
   "pygments_lexer": "ipython3",
   "version": "3.10.11"
  },
  "orig_nbformat": 4
 },
 "nbformat": 4,
 "nbformat_minor": 2
}
