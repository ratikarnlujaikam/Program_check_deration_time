{
 "cells": [
  {
   "cell_type": "code",
   "execution_count": 2,
   "metadata": {},
   "outputs": [
    {
     "name": "stderr",
     "output_type": "stream",
     "text": [
      "C:\\Users\\IT\\AppData\\Local\\Temp\\ipykernel_19260\\2092486271.py:14: UserWarning: pandas only supports SQLAlchemy connectable (engine/connection) or database string URI or sqlite3 DBAPI2 connection. Other DBAPI2 objects are not tested. Please consider using SQLAlchemy.\n",
      "  distinct_results = pd.read_sql(distinct_query, cnxn)\n",
      "C:\\Users\\IT\\AppData\\Local\\Temp\\ipykernel_19260\\2092486271.py:39: UserWarning: pandas only supports SQLAlchemy connectable (engine/connection) or database string URI or sqlite3 DBAPI2 connection. Other DBAPI2 objects are not tested. Please consider using SQLAlchemy.\n",
      "  datasets = pd.read_sql(query, cnxn, params=(model, line))\n"
     ]
    },
    {
     "name": "stdout",
     "output_type": "stream",
     "text": [
      "Model: AVENGE\n",
      "Line: 4-11\n",
      "         Date  countBarcode\n",
      "0  2023-07-18           425\n",
      "1  2023-07-19           350\n",
      "2  2023-07-20           575\n",
      "3  2023-07-21           425\n",
      "4  2023-07-22           175\n"
     ]
    },
    {
     "name": "stderr",
     "output_type": "stream",
     "text": [
      "C:\\Users\\IT\\AppData\\Local\\Temp\\ipykernel_19260\\2092486271.py:39: UserWarning: pandas only supports SQLAlchemy connectable (engine/connection) or database string URI or sqlite3 DBAPI2 connection. Other DBAPI2 objects are not tested. Please consider using SQLAlchemy.\n",
      "  datasets = pd.read_sql(query, cnxn, params=(model, line))\n"
     ]
    },
    {
     "name": "stdout",
     "output_type": "stream",
     "text": [
      "Model: CIMAR3\n",
      "Line: 2-12\n",
      "         Date  countBarcode\n",
      "0  2023-07-25           400\n",
      "1  2023-08-03          2625\n",
      "2  2023-08-05           350\n",
      "3  2023-08-07          5250\n",
      "4  2023-08-11          4500\n"
     ]
    },
    {
     "name": "stderr",
     "output_type": "stream",
     "text": [
      "C:\\Users\\IT\\AppData\\Local\\Temp\\ipykernel_19260\\2092486271.py:39: UserWarning: pandas only supports SQLAlchemy connectable (engine/connection) or database string URI or sqlite3 DBAPI2 connection. Other DBAPI2 objects are not tested. Please consider using SQLAlchemy.\n",
      "  datasets = pd.read_sql(query, cnxn, params=(model, line))\n"
     ]
    },
    {
     "name": "stdout",
     "output_type": "stream",
     "text": [
      "Model: CIMAR5\n",
      "Line: 2-4\n",
      "         Date  countBarcode\n",
      "0  2023-07-21          1044\n",
      "1  2023-08-03          3654\n",
      "2  2023-08-07          3016\n",
      "3  2023-08-17           203\n"
     ]
    },
    {
     "name": "stderr",
     "output_type": "stream",
     "text": [
      "C:\\Users\\IT\\AppData\\Local\\Temp\\ipykernel_19260\\2092486271.py:39: UserWarning: pandas only supports SQLAlchemy connectable (engine/connection) or database string URI or sqlite3 DBAPI2 connection. Other DBAPI2 objects are not tested. Please consider using SQLAlchemy.\n",
      "  datasets = pd.read_sql(query, cnxn, params=(model, line))\n"
     ]
    }
   ],
   "source": [
    "import pyodbc\n",
    "import pandas as pd\n",
    "\n",
    "server = '192.168.101.219' \n",
    "database = 'DataforAnalysis' \n",
    "username = 'DATALYZER' \n",
    "password = 'NMB54321'  \n",
    "\n",
    "# Establish the database connection\n",
    "cnxn = pyodbc.connect('DRIVER={SQL Server};SERVER='+server+';DATABASE='+database+';UID='+username+';PWD='+ password)\n",
    "\n",
    "# Select distinct Model and Line values\n",
    "distinct_query = \"SELECT DISTINCT Model, Line FROM [DataforAnalysis].[dbo].[EWMS];\"\n",
    "distinct_results = pd.read_sql(distinct_query, cnxn)\n",
    "\n",
    "# Iterate through each distinct Model and Line combination\n",
    "for index, row in distinct_results.iterrows():\n",
    "    model = row['Model']\n",
    "    line = row['Line']\n",
    "    \n",
    "    query = \"\"\"\n",
    "        SELECT \n",
    "            ewms.[Date] AS [Date],\n",
    "            COUNT(ewms.[Barcode]) AS [countBarcode] \n",
    "        FROM [DataforAnalysis].[dbo].[EWMS] AS ewms\n",
    "        INNER JOIN [TransportData].[dbo].[Master_matchings] AS mm\n",
    "            ON ewms.Model = mm.Model\n",
    "        WHERE \n",
    "            ewms.[Date] BETWEEN '2023-07-18' AND '2023-08-17' \n",
    "            AND ewms.[Model] = ? \n",
    "            AND ewms.[Line] = ? \n",
    "            AND mm.[createdAt] = (\n",
    "                SELECT MAX([createdAt]) \n",
    "                FROM [TransportData].[dbo].[Master_matchings]\n",
    "            )\n",
    "        GROUP BY ewms.[Date];\n",
    "    \"\"\"\n",
    "    \n",
    "    datasets = pd.read_sql(query, cnxn, params=(model, line))\n",
    "    \n",
    "    # Process datasets as needed\n",
    "    print(\"Model:\", model)\n",
    "    print(\"Line:\", line)\n",
    "    print(datasets.head())  # Print the first few rows\n",
    "    \n",
    "# Close the database connection\n",
    "cnxn.close()\n"
   ]
  },
  {
   "cell_type": "code",
   "execution_count": 18,
   "metadata": {},
   "outputs": [
    {
     "data": {
      "text/html": [
       "<div>\n",
       "<style scoped>\n",
       "    .dataframe tbody tr th:only-of-type {\n",
       "        vertical-align: middle;\n",
       "    }\n",
       "\n",
       "    .dataframe tbody tr th {\n",
       "        vertical-align: top;\n",
       "    }\n",
       "\n",
       "    .dataframe thead th {\n",
       "        text-align: right;\n",
       "    }\n",
       "</style>\n",
       "<table border=\"1\" class=\"dataframe\">\n",
       "  <thead>\n",
       "    <tr style=\"text-align: right;\">\n",
       "      <th></th>\n",
       "      <th>Date</th>\n",
       "      <th>countBarcode</th>\n",
       "    </tr>\n",
       "  </thead>\n",
       "  <tbody>\n",
       "  </tbody>\n",
       "</table>\n",
       "</div>"
      ],
      "text/plain": [
       "Empty DataFrame\n",
       "Columns: [Date, countBarcode]\n",
       "Index: []"
      ]
     },
     "execution_count": 18,
     "metadata": {},
     "output_type": "execute_result"
    }
   ],
   "source": [
    "datasets"
   ]
  }
 ],
 "metadata": {
  "kernelspec": {
   "display_name": "Python 3",
   "language": "python",
   "name": "python3"
  },
  "language_info": {
   "codemirror_mode": {
    "name": "ipython",
    "version": 3
   },
   "file_extension": ".py",
   "mimetype": "text/x-python",
   "name": "python",
   "nbconvert_exporter": "python",
   "pygments_lexer": "ipython3",
   "version": "3.10.11"
  },
  "orig_nbformat": 4
 },
 "nbformat": 4,
 "nbformat_minor": 2
}
