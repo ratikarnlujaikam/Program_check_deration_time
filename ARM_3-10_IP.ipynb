{
 "cells": [
  {
   "cell_type": "code",
   "execution_count": 6,
   "metadata": {},
   "outputs": [],
   "source": [
    "import pandas as pd\n",
    "import numpy as np"
   ]
  },
  {
   "cell_type": "code",
   "execution_count": 2,
   "metadata": {},
   "outputs": [],
   "source": [
    "# import datetime\n",
    "# Date= datetime.datetime.now().date()-datetime.timedelta(1)\n",
    "# Line='3-6'\n",
    "# Model='LONGSP'\n",
    "# Startdate=datetime.datetime.now().date()-datetime.timedelta(1)-datetime.timedelta(150)\n",
    "# finishDate=datetime.datetime.now().date()-datetime.timedelta(1)-datetime.timedelta(1)"
   ]
  },
  {
   "cell_type": "code",
   "execution_count": 2,
   "metadata": {},
   "outputs": [],
   "source": [
    "import datetime\n",
    "Date= datetime.datetime.now().date()\n",
    "Line='3-10_IP'\n",
    "Model='LONGSP'\n",
    "Startdate=datetime.datetime.now().date()-datetime.timedelta(150)\n",
    "finishDate=datetime.datetime.now().date()-datetime.timedelta(1)"
   ]
  },
  {
   "cell_type": "code",
   "execution_count": 8,
   "metadata": {},
   "outputs": [
    {
     "name": "stderr",
     "output_type": "stream",
     "text": [
      "C:\\Users\\IT\\AppData\\Local\\Temp\\ipykernel_18884\\1945553501.py:14: UserWarning: pandas only supports SQLAlchemy connectable (engine/connection) or database string URI or sqlite3 DBAPI2 connection. Other DBAPI2 objects are not tested. Please consider using SQLAlchemy.\n",
      "  datasets = pd.read_sql(query, cnxn)\n"
     ]
    },
    {
     "name": "stdout",
     "output_type": "stream",
     "text": [
      "Empty DataFrame\n",
      "Columns: [Projection1, Datum_probe, Max_force, Set_Dim_A, Set_Dim_B, Set_Dim_C, Diecast_Pivot_2]\n",
      "Index: []\n"
     ]
    }
   ],
   "source": [
    "import pyodbc\n",
    "import pandas as pd\n",
    "# Some other example server values are\n",
    "# server = 'localhost\\sqlexpress' # for a named instance\n",
    "# server = 'myserver,port' # to specify an alternate port\n",
    "server = '192.168.101.219' \n",
    "database = 'DataforAnalysis' \n",
    "username = 'DATALYZER' \n",
    "password = 'NMB54321'  \n",
    "cnxn = pyodbc.connect('DRIVER={SQL Server};SERVER='+server+';DATABASE='+database+';UID='+username+';PWD='+ password)\n",
    "cursor = cnxn.cursor()\n",
    "# select 26 rows from SQL table to insert in dataframe.\n",
    "query = \"SELECT [Projection1],[Datum_probe],convert(float,[Max_force]) as [Max_force],[Set_Dim_A],[Set_Dim_B],[Set_Dim_C],[Diecast_Pivot_2]FROM [Diecast].[dbo].[Pivot] join [TransportData].[dbo].[Matching_Auto_Unit1] on [Pivot].Diecast_S_N=[Matching_Auto_Unit1].Barcode_Base join [DataforAnalysis].[dbo].[DataML_Test] on [DataML_Test].Barcode_motor=[Matching_Auto_Unit1].Barcode_Motor   WHERE [DataML_Test].[Model] = '\"+Model+\"' AND [DataML_Test].[Line] = '3-10' AND [DataML_Test].[Date] BETWEEN '\"+str(Startdate)+\"' and '\"+str(finishDate)+\"'and ([Projection1] is not null and [Datum_probe] is not null and [Max_force] is not null and [Set_Dim_A] is not null and [Set_Dim_B] is not null and [Set_Dim_C] is not null and [Diecast_Pivot_2] is not null)and [Projection1] !='0' and [Projection1]>0 and [Projection1] < 1;\"\n",
    "datasets = pd.read_sql(query, cnxn)\n",
    "print(datasets.head(100000))"
   ]
  },
  {
   "cell_type": "code",
   "execution_count": null,
   "metadata": {},
   "outputs": [
    {
     "data": {
      "text/plain": [
       "\"SELECT [Projection1],[Datum_probe],convert(float,[Max_force]) as [Max_force],[Set_Dim_A],[Set_Dim_B],[Set_Dim_C],[Diecast_Pivot_2]FROM [Diecast].[dbo].[Pivot] join [TransportData].[dbo].[Matching_Auto_Unit1] on [Pivot].Diecast_S_N=[Matching_Auto_Unit1].Barcode_Base join [DataforAnalysis].[dbo].[DataML_Test] on [DataML_Test].Barcode_motor=[Matching_Auto_Unit1].Barcode_Motor   WHERE [DataML_Test].[Model] = 'LONGSP' AND [DataML_Test].[Line] = '3-14' AND [DataML_Test].[Date] BETWEEN '2023-01-20' and '2023-06-18'and ([Projection1] is not null and [Datum_probe] is not null and [Max_force] is not null and [Set_Dim_A] is not null and [Set_Dim_B] is not null and [Set_Dim_C] is not null and [Diecast_Pivot_2] is not null)and [Projection1] !='0' and [Projection1]>0 and [Projection1] < 1;\""
      ]
     },
     "execution_count": 5,
     "metadata": {},
     "output_type": "execute_result"
    }
   ],
   "source": [
    "query"
   ]
  },
  {
   "cell_type": "code",
   "execution_count": null,
   "metadata": {},
   "outputs": [
    {
     "name": "stderr",
     "output_type": "stream",
     "text": [
      "C:\\Users\\IT\\AppData\\Local\\Temp\\ipykernel_6708\\445518909.py:14: UserWarning: pandas only supports SQLAlchemy connectable (engine/connection) or database string URI or sqlite3 DBAPI2 connection. Other DBAPI2 objects are not tested. Please consider using SQLAlchemy.\n",
      "  spec = pd.read_sql(query, cnxn)\n"
     ]
    },
    {
     "name": "stdout",
     "output_type": "stream",
     "text": [
      "           Bin        Bin2 Datum_probe_Min Datum_probe_Max Max_force_Min  \\\n",
      "0   A           -4               -infinity          124.99     -infinity   \n",
      "1   B           -3                     125          249.99           300   \n",
      "2   C           -2                     250          374.99        833.33   \n",
      "3   D           -1                     375          499.99       1366.67   \n",
      "4   E           1                      500          624.99          1900   \n",
      "5   F           2                      625          749.99       2433.33   \n",
      "6   G           3                      750             875       2966.67   \n",
      "7   H           4                   875.01       +infinity       3500.01   \n",
      "8   Pass        Pass                                  None          None   \n",
      "9   Fail        Fail                                  None          None   \n",
      "10  Fail        Fail                  None            None          None   \n",
      "\n",
      "   Max_force_Max Set_Dim_A_Min Set_Dim_A_Max Set_Dim_B_Min Set_Dim_B_Max  \\\n",
      "0         299.99     -infinity        0.4774     -infinity        0.4774   \n",
      "1         833.32        0.4775        0.4901        0.4775        0.4901   \n",
      "2        1366.66        0.4902        0.5028        0.4902        0.5028   \n",
      "3        1899.99        0.5029        0.5155        0.5029        0.5155   \n",
      "4        2433.32        0.5156        0.5282        0.5156        0.5282   \n",
      "5        2966.66        0.5283        0.5409        0.5283        0.5409   \n",
      "6           3500         0.541        0.5537         0.541        0.5537   \n",
      "7      +infinity        0.5538     +infinity        0.5538     +infinity   \n",
      "8           None          None          None          None          None   \n",
      "9           None          None          None          None          None   \n",
      "10          None          None          None          None          None   \n",
      "\n",
      "   Set_Dim_C_Min Set_Dim_C_Max Pivot_Height_Min Pivot_Height_Max Pivot_2_Min  \\\n",
      "0      -infinity        0.4774        -infinity           -9.403   -infinity   \n",
      "1         0.4775        0.4901          -9.4031          -9.3945      9.3524   \n",
      "2         0.4902        0.5028          -9.3946           -9.386      9.3607   \n",
      "3         0.5029        0.5155          -9.3861          -9.3776      9.3692   \n",
      "4         0.5156        0.5282          -9.3777          -9.3691      9.3777   \n",
      "5         0.5283        0.5409          -9.3692          -9.3606      9.3861   \n",
      "6          0.541        0.5537          -9.3607          -9.3523      9.3946   \n",
      "7         0.5538     +infinity          -9.3524        +infinity      9.4031   \n",
      "8           None          None             None                         None   \n",
      "9           None          None             None                         None   \n",
      "10          None          None             None                         None   \n",
      "\n",
      "   Pivot_2_Max   KPOV_Min   KPOV_Max  \n",
      "0       9.3523       None       None  \n",
      "1       9.3606       None       None  \n",
      "2       9.3691       None       None  \n",
      "3       9.3776       None       None  \n",
      "4        9.386       None       None  \n",
      "5       9.3945       None       None  \n",
      "6        9.403       None       None  \n",
      "7    +infinity       None       None  \n",
      "8         None     0.4648     0.5664  \n",
      "9         None  -infinity     0.4647  \n",
      "10        None     0.5665  +infinity  \n"
     ]
    }
   ],
   "source": [
    "import pyodbc\n",
    "import pandas as pd\n",
    "# Some other example server values are\n",
    "# server = 'localhost\\sqlexpress' # for a named instance\n",
    "# server = 'myserver,port' # to specify an alternate port\n",
    "server = '192.168.101.219' \n",
    "database = 'DataforAnalysis' \n",
    "username = 'DATALYZER' \n",
    "password = 'NMB54321'  \n",
    "cnxn = pyodbc.connect('DRIVER={SQL Server};SERVER='+server+';DATABASE='+database+';UID='+username+';PWD='+ password)\n",
    "cursor = cnxn.cursor()\n",
    "# select 26 rows from SQL table to insert in dataframe.\n",
    "query = \"SELECT [Bin],[Bin2],[Datum_probe_Min],[Datum_probe_Max],[Max_force_Min],[Max_force_Max],[Set_Dim_A_Min],[Set_Dim_A_Max],[Set_Dim_B_Min],[Set_Dim_B_Max],[Set_Dim_C_Min],[Set_Dim_C_Max],[Pivot_Height_Min],[Pivot_Height_Max],[Pivot_2_Min],[Pivot_2_Max],[KPOV_Min],[KPOV_Max]FROM [DataforAnalysis].[dbo].[Reference];\"\n",
    "spec = pd.read_sql(query, cnxn)\n",
    "print(spec.head(100000))"
   ]
  },
  {
   "cell_type": "code",
   "execution_count": 7,
   "metadata": {},
   "outputs": [
    {
     "ename": "ValueError",
     "evalue": "array length 8 does not match index length 4",
     "output_type": "error",
     "traceback": [
      "\u001b[1;31m---------------------------------------------------------------------------\u001b[0m",
      "\u001b[1;31mValueError\u001b[0m                                Traceback (most recent call last)",
      "Cell \u001b[1;32mIn[7], line 19\u001b[0m\n\u001b[0;32m      1\u001b[0m \u001b[38;5;28;01mfrom\u001b[39;00m \u001b[38;5;21;01mpandas\u001b[39;00m \u001b[38;5;28;01mimport\u001b[39;00m DataFrame\n\u001b[0;32m      3\u001b[0m data1 \u001b[38;5;241m=\u001b[39m{\n\u001b[0;32m      4\u001b[0m \u001b[38;5;124m'\u001b[39m\u001b[38;5;124mDate\u001b[39m\u001b[38;5;124m'\u001b[39m:Date,\n\u001b[0;32m      5\u001b[0m \u001b[38;5;124m'\u001b[39m\u001b[38;5;124mbetweenDate\u001b[39m\u001b[38;5;124m'\u001b[39m:\u001b[38;5;28mstr\u001b[39m(Startdate)\u001b[38;5;241m+\u001b[39m\u001b[38;5;124m'\u001b[39m\u001b[38;5;124m - \u001b[39m\u001b[38;5;124m'\u001b[39m\u001b[38;5;241m+\u001b[39m\u001b[38;5;28mstr\u001b[39m(finishDate),\n\u001b[1;32m   (...)\u001b[0m\n\u001b[0;32m     17\u001b[0m \u001b[38;5;124m'\u001b[39m\u001b[38;5;124mProjection\u001b[39m\u001b[38;5;124m'\u001b[39m:datasets\u001b[38;5;241m.\u001b[39mdescribe()[\u001b[38;5;124m'\u001b[39m\u001b[38;5;124mProjection1\u001b[39m\u001b[38;5;124m'\u001b[39m],\n\u001b[0;32m     18\u001b[0m }\n\u001b[1;32m---> 19\u001b[0m dff1 \u001b[38;5;241m=\u001b[39m \u001b[43mpd\u001b[49m\u001b[38;5;241;43m.\u001b[39;49m\u001b[43mDataFrame\u001b[49m\u001b[43m(\u001b[49m\u001b[43mdata1\u001b[49m\u001b[43m,\u001b[49m\u001b[43mcolumns\u001b[49m\u001b[38;5;241;43m=\u001b[39;49m\u001b[43m[\u001b[49m\u001b[38;5;124;43m'\u001b[39;49m\u001b[38;5;124;43mDate\u001b[39;49m\u001b[38;5;124;43m'\u001b[39;49m\u001b[43m,\u001b[49m\u001b[38;5;124;43m'\u001b[39;49m\u001b[38;5;124;43mbetweenDate\u001b[39;49m\u001b[38;5;124;43m'\u001b[39;49m\u001b[43m,\u001b[49m\u001b[38;5;124;43m'\u001b[39;49m\u001b[38;5;124;43mModel\u001b[39;49m\u001b[38;5;124;43m'\u001b[39;49m\u001b[43m,\u001b[49m\u001b[38;5;124;43m'\u001b[39;49m\u001b[38;5;124;43mLine\u001b[39;49m\u001b[38;5;124;43m'\u001b[39;49m\u001b[43m,\u001b[49m\u001b[38;5;124;43m'\u001b[39;49m\u001b[38;5;124;43mdescribe1\u001b[39;49m\u001b[38;5;124;43m'\u001b[39;49m\u001b[43m,\u001b[49m\u001b[38;5;28;43mstr\u001b[39;49m\u001b[43m(\u001b[49m\u001b[38;5;124;43m'\u001b[39;49m\u001b[38;5;124;43mDatum_probe\u001b[39;49m\u001b[38;5;124;43m'\u001b[39;49m\u001b[43m)\u001b[49m\u001b[43m,\u001b[49m\u001b[38;5;28;43mstr\u001b[39;49m\u001b[43m(\u001b[49m\u001b[38;5;124;43m'\u001b[39;49m\u001b[38;5;124;43mMax_force\u001b[39;49m\u001b[38;5;124;43m'\u001b[39;49m\u001b[43m)\u001b[49m\u001b[43m,\u001b[49m\u001b[38;5;28;43mstr\u001b[39;49m\u001b[43m(\u001b[49m\u001b[38;5;124;43m'\u001b[39;49m\u001b[38;5;124;43mSet_Dim_A\u001b[39;49m\u001b[38;5;124;43m'\u001b[39;49m\u001b[43m)\u001b[49m\u001b[43m,\u001b[49m\u001b[38;5;28;43mstr\u001b[39;49m\u001b[43m(\u001b[49m\u001b[38;5;124;43m'\u001b[39;49m\u001b[38;5;124;43mSet_Dim_B\u001b[39;49m\u001b[38;5;124;43m'\u001b[39;49m\u001b[43m)\u001b[49m\u001b[43m,\u001b[49m\u001b[38;5;28;43mstr\u001b[39;49m\u001b[43m(\u001b[49m\u001b[38;5;124;43m'\u001b[39;49m\u001b[38;5;124;43mSet_Dim_C\u001b[39;49m\u001b[38;5;124;43m'\u001b[39;49m\u001b[43m)\u001b[49m\u001b[43m,\u001b[49m\u001b[38;5;28;43mstr\u001b[39;49m\u001b[43m(\u001b[49m\u001b[38;5;124;43m'\u001b[39;49m\u001b[38;5;124;43mDiecast_Pivot_2\u001b[39;49m\u001b[38;5;124;43m'\u001b[39;49m\u001b[43m)\u001b[49m\u001b[43m,\u001b[49m\u001b[38;5;28;43mstr\u001b[39;49m\u001b[43m(\u001b[49m\u001b[38;5;124;43m'\u001b[39;49m\u001b[38;5;124;43mProjection\u001b[39;49m\u001b[38;5;124;43m'\u001b[39;49m\u001b[43m)\u001b[49m\u001b[43m]\u001b[49m\u001b[43m)\u001b[49m\n\u001b[0;32m     20\u001b[0m \u001b[38;5;28mprint\u001b[39m(\u001b[38;5;124m\"\u001b[39m\u001b[38;5;124mdisplaying the dataframe with data as record\u001b[39m\u001b[38;5;124m\"\u001b[39m)\n\u001b[0;32m     21\u001b[0m \u001b[38;5;28mprint\u001b[39m(dff1)\n",
      "File \u001b[1;32m~\\AppData\\Local\\Packages\\PythonSoftwareFoundation.Python.3.10_qbz5n2kfra8p0\\LocalCache\\local-packages\\Python310\\site-packages\\pandas\\core\\frame.py:663\u001b[0m, in \u001b[0;36mDataFrame.__init__\u001b[1;34m(self, data, index, columns, dtype, copy)\u001b[0m\n\u001b[0;32m    657\u001b[0m     mgr \u001b[38;5;241m=\u001b[39m \u001b[38;5;28mself\u001b[39m\u001b[38;5;241m.\u001b[39m_init_mgr(\n\u001b[0;32m    658\u001b[0m         data, axes\u001b[38;5;241m=\u001b[39m{\u001b[38;5;124m\"\u001b[39m\u001b[38;5;124mindex\u001b[39m\u001b[38;5;124m\"\u001b[39m: index, \u001b[38;5;124m\"\u001b[39m\u001b[38;5;124mcolumns\u001b[39m\u001b[38;5;124m\"\u001b[39m: columns}, dtype\u001b[38;5;241m=\u001b[39mdtype, copy\u001b[38;5;241m=\u001b[39mcopy\n\u001b[0;32m    659\u001b[0m     )\n\u001b[0;32m    661\u001b[0m \u001b[38;5;28;01melif\u001b[39;00m \u001b[38;5;28misinstance\u001b[39m(data, \u001b[38;5;28mdict\u001b[39m):\n\u001b[0;32m    662\u001b[0m     \u001b[38;5;66;03m# GH#38939 de facto copy defaults to False only in non-dict cases\u001b[39;00m\n\u001b[1;32m--> 663\u001b[0m     mgr \u001b[38;5;241m=\u001b[39m \u001b[43mdict_to_mgr\u001b[49m\u001b[43m(\u001b[49m\u001b[43mdata\u001b[49m\u001b[43m,\u001b[49m\u001b[43m \u001b[49m\u001b[43mindex\u001b[49m\u001b[43m,\u001b[49m\u001b[43m \u001b[49m\u001b[43mcolumns\u001b[49m\u001b[43m,\u001b[49m\u001b[43m \u001b[49m\u001b[43mdtype\u001b[49m\u001b[38;5;241;43m=\u001b[39;49m\u001b[43mdtype\u001b[49m\u001b[43m,\u001b[49m\u001b[43m \u001b[49m\u001b[43mcopy\u001b[49m\u001b[38;5;241;43m=\u001b[39;49m\u001b[43mcopy\u001b[49m\u001b[43m,\u001b[49m\u001b[43m \u001b[49m\u001b[43mtyp\u001b[49m\u001b[38;5;241;43m=\u001b[39;49m\u001b[43mmanager\u001b[49m\u001b[43m)\u001b[49m\n\u001b[0;32m    664\u001b[0m \u001b[38;5;28;01melif\u001b[39;00m \u001b[38;5;28misinstance\u001b[39m(data, ma\u001b[38;5;241m.\u001b[39mMaskedArray):\n\u001b[0;32m    665\u001b[0m     \u001b[38;5;28;01mimport\u001b[39;00m \u001b[38;5;21;01mnumpy\u001b[39;00m\u001b[38;5;21;01m.\u001b[39;00m\u001b[38;5;21;01mma\u001b[39;00m\u001b[38;5;21;01m.\u001b[39;00m\u001b[38;5;21;01mmrecords\u001b[39;00m \u001b[38;5;28;01mas\u001b[39;00m \u001b[38;5;21;01mmrecords\u001b[39;00m\n",
      "File \u001b[1;32m~\\AppData\\Local\\Packages\\PythonSoftwareFoundation.Python.3.10_qbz5n2kfra8p0\\LocalCache\\local-packages\\Python310\\site-packages\\pandas\\core\\internals\\construction.py:448\u001b[0m, in \u001b[0;36mdict_to_mgr\u001b[1;34m(data, index, columns, dtype, typ, copy)\u001b[0m\n\u001b[0;32m    444\u001b[0m missing \u001b[38;5;241m=\u001b[39m arrays\u001b[38;5;241m.\u001b[39misna()\n\u001b[0;32m    445\u001b[0m \u001b[38;5;28;01mif\u001b[39;00m index \u001b[38;5;129;01mis\u001b[39;00m \u001b[38;5;28;01mNone\u001b[39;00m:\n\u001b[0;32m    446\u001b[0m     \u001b[38;5;66;03m# GH10856\u001b[39;00m\n\u001b[0;32m    447\u001b[0m     \u001b[38;5;66;03m# raise ValueError if only scalars in dict\u001b[39;00m\n\u001b[1;32m--> 448\u001b[0m     index \u001b[38;5;241m=\u001b[39m \u001b[43m_extract_index\u001b[49m\u001b[43m(\u001b[49m\u001b[43marrays\u001b[49m\u001b[43m[\u001b[49m\u001b[38;5;241;43m~\u001b[39;49m\u001b[43mmissing\u001b[49m\u001b[43m]\u001b[49m\u001b[43m)\u001b[49m\n\u001b[0;32m    449\u001b[0m \u001b[38;5;28;01melse\u001b[39;00m:\n\u001b[0;32m    450\u001b[0m     index \u001b[38;5;241m=\u001b[39m ensure_index(index)\n",
      "File \u001b[1;32m~\\AppData\\Local\\Packages\\PythonSoftwareFoundation.Python.3.10_qbz5n2kfra8p0\\LocalCache\\local-packages\\Python310\\site-packages\\pandas\\core\\internals\\construction.py:680\u001b[0m, in \u001b[0;36m_extract_index\u001b[1;34m(data)\u001b[0m\n\u001b[0;32m    675\u001b[0m     \u001b[38;5;28;01mif\u001b[39;00m lengths[\u001b[38;5;241m0\u001b[39m] \u001b[38;5;241m!=\u001b[39m \u001b[38;5;28mlen\u001b[39m(index):\n\u001b[0;32m    676\u001b[0m         msg \u001b[38;5;241m=\u001b[39m (\n\u001b[0;32m    677\u001b[0m             \u001b[38;5;124mf\u001b[39m\u001b[38;5;124m\"\u001b[39m\u001b[38;5;124marray length \u001b[39m\u001b[38;5;132;01m{\u001b[39;00mlengths[\u001b[38;5;241m0\u001b[39m]\u001b[38;5;132;01m}\u001b[39;00m\u001b[38;5;124m does not match index \u001b[39m\u001b[38;5;124m\"\u001b[39m\n\u001b[0;32m    678\u001b[0m             \u001b[38;5;124mf\u001b[39m\u001b[38;5;124m\"\u001b[39m\u001b[38;5;124mlength \u001b[39m\u001b[38;5;132;01m{\u001b[39;00m\u001b[38;5;28mlen\u001b[39m(index)\u001b[38;5;132;01m}\u001b[39;00m\u001b[38;5;124m\"\u001b[39m\n\u001b[0;32m    679\u001b[0m         )\n\u001b[1;32m--> 680\u001b[0m         \u001b[38;5;28;01mraise\u001b[39;00m \u001b[38;5;167;01mValueError\u001b[39;00m(msg)\n\u001b[0;32m    681\u001b[0m \u001b[38;5;28;01melse\u001b[39;00m:\n\u001b[0;32m    682\u001b[0m     index \u001b[38;5;241m=\u001b[39m default_index(lengths[\u001b[38;5;241m0\u001b[39m])\n",
      "\u001b[1;31mValueError\u001b[0m: array length 8 does not match index length 4"
     ]
    }
   ],
   "source": [
    "from pandas import DataFrame\n",
    "\n",
    "data1 ={\n",
    "'Date':Date,\n",
    "'betweenDate':str(Startdate)+' - '+str(finishDate),\n",
    "'Model':Model,\n",
    "'Line':Line,\n",
    "\n",
    "'describe1':['count','mean','std','min','25%','50%','75%','max'\n",
    "],\n",
    "'Datum_probe':datasets.describe()['Datum_probe'],\n",
    "'Max_force':datasets.describe()['Max_force'],\n",
    "'Set_Dim_A':datasets.describe()['Set_Dim_A'],\n",
    "'Set_Dim_B':datasets.describe()['Set_Dim_B'],\n",
    "'Set_Dim_C':datasets.describe()['Set_Dim_C'],\n",
    "'Diecast_Pivot_2':datasets.describe()['Diecast_Pivot_2'],\n",
    "'Projection':datasets.describe()['Projection1'],\n",
    "}\n",
    "dff1 = pd.DataFrame(data1,columns=['Date','betweenDate','Model','Line','describe1',str('Datum_probe'),str('Max_force'),str('Set_Dim_A'),str('Set_Dim_B'),str('Set_Dim_C'),str('Diecast_Pivot_2'),str('Projection')])\n",
    "print(\"displaying the dataframe with data as record\")\n",
    "print(dff1)\n",
    "print(\"-------------------------------Converting into csv file with a new a new file name ------------------------------------\")\n",
    "# dff1.to_csv(\"C:\\\\Users\\\\IT\\\\Desktop\\\\Date ML\\\\LSP3-10 Accuracy.csv\")\n",
    "# dff1=pd.read_csv(\"C:\\\\Users\\\\IT\\\\Desktop\\\\Date ML\\\\LSP3-10 Accuracy.csv\")\n",
    "# print(dff1)"
   ]
  },
  {
   "cell_type": "code",
   "execution_count": null,
   "metadata": {},
   "outputs": [],
   "source": [
    "import pyodbc\n",
    "import pandas as pd\n",
    "# insert data from csv file into dataframe.\n",
    "# working directory for csv file: type \"pwd\" in Azure Data Studio or Linux\n",
    "# working directory in Windows c:\\users\\username\n",
    "# Some other example server values are\n",
    "# server = 'localhost\\sqlexpress' # for a named instance\n",
    "# server = 'myserver,port' # to specify an alternate port\n",
    "server = '192.168.101.219' \n",
    "database = 'DataforAnalysis' \n",
    "username = 'DATALYZER' \n",
    "password = 'NMB54321'  \n",
    "cnxn = pyodbc.connect('DRIVER={SQL Server};SERVER='+server+';DATABASE='+database+';UID='+username+';PWD='+ password)\n",
    "cursor = cnxn.cursor()\n",
    "# Insert Dataframe into SQL Server:\n",
    "for index, row in dff1.iterrows():\n",
    "     cursor.execute(\"INSERT INTO [DataforAnalysis].[dbo].[DescribeML](Date,betweenDate,Model,Line,describe1,Datum_probe,Max_force,Set_Dim_A,Set_Dim_B,Set_Dim_C,Diecast_Pivot_2,Projection) values ('\"+str(row.Date)+\"','\"+row.betweenDate+\"','\"+row.Model+\"','\"+row.Line+\"','\"+str(row.describe1)+\"','\"+str(row.Datum_probe)+\"','\"+str(row.Max_force)+\"','\"+str(row.Set_Dim_A)+\"','\"+str(row.Set_Dim_B)+\"','\"+str(row.Set_Dim_C)+\"','\"+str(row.Diecast_Pivot_2)+\"','\"+str(row.Projection)+\"')\")\n",
    "\n",
    "cnxn.commit()\n",
    "cursor.close()"
   ]
  },
  {
   "cell_type": "code",
   "execution_count": null,
   "metadata": {},
   "outputs": [],
   "source": [
    "datasets['Projection1']=pd.cut(datasets['Projection1'],bins=[-np.inf,spec['KPOV_Max'][9],spec['KPOV_Max'][8],np.inf],labels=['fail_low','pass','fail_high'])\n",
    "datasets['Projection1'].replace('fail_low','fail',inplace=True)\n",
    "datasets['Projection1'].replace('fail_high','fail',inplace=True)"
   ]
  },
  {
   "cell_type": "code",
   "execution_count": null,
   "metadata": {},
   "outputs": [
    {
     "name": "stdout",
     "output_type": "stream",
     "text": [
      "Counter({'pass': 99660, 'fail': 506})\n"
     ]
    }
   ],
   "source": [
    "from collections import Counter\n",
    "print(Counter(datasets['Projection1']))"
   ]
  },
  {
   "cell_type": "code",
   "execution_count": null,
   "metadata": {},
   "outputs": [],
   "source": [
    "from imblearn.over_sampling import SMOTE\n",
    "# over_sampling คือการทำค่า fail 1284 ให้เท่ากับค่า pass 271k เพื่อให้ data ในการ train เพิ่มมากขึ้น\n",
    "from collections import Counter\n",
    "\n",
    "k = 3\n",
    "X = datasets.loc[:, datasets.columns != 'Projection1']\n",
    "y = datasets.Projection1\n",
    "\n",
    "# sampling_strategy=0.1 oversampling 10%\n",
    "sm = SMOTE(sampling_strategy='minority', k_neighbors=k, random_state=100)\n",
    "X_res, y_res = sm.fit_resample(X, y)\n",
    "\n",
    "datasets = pd.concat([pd.DataFrame(X_res), pd.DataFrame(y_res)], axis=1)"
   ]
  },
  {
   "cell_type": "code",
   "execution_count": null,
   "metadata": {},
   "outputs": [
    {
     "name": "stdout",
     "output_type": "stream",
     "text": [
      "Counter({'pass': 99660, 'fail': 99660})\n"
     ]
    }
   ],
   "source": [
    "from collections import Counter\n",
    "print(Counter(datasets['Projection1']))"
   ]
  },
  {
   "cell_type": "code",
   "execution_count": null,
   "metadata": {},
   "outputs": [],
   "source": [
    "Datum_3LCL = spec['Datum_probe_Max'][0]\n",
    "Datum_2LCL = spec['Datum_probe_Max'][1]\n",
    "Datum_LCL = spec['Datum_probe_Max'][2]\n",
    "Datum_CL = spec['Datum_probe_Max'][3]\n",
    "Datum_UCL = spec['Datum_probe_Max'][4]\n",
    "Datum_2UCL = spec['Datum_probe_Max'][5]\n",
    "Datum_3UCL = spec['Datum_probe_Max'][6]\n",
    "\n",
    "Max_3LCL = spec['Max_force_Max'][0]\n",
    "Max_2LCL = spec['Max_force_Max'][1]\n",
    "Max_LCL = spec['Max_force_Max'][2]\n",
    "Max_CL = spec['Max_force_Max'][3]\n",
    "Max_UCL = spec['Max_force_Max'][4]\n",
    "Max_2UCL = spec['Max_force_Max'][5]\n",
    "Max_3UCL = spec['Max_force_Max'][6]\n",
    "\n",
    "Set_Dim_A_3LCL = spec['Set_Dim_A_Max'][0]\n",
    "Set_Dim_A_2LCL = spec['Set_Dim_A_Max'][1]\n",
    "Set_Dim_A_LCL = spec['Set_Dim_A_Max'][2]\n",
    "Set_Dim_A_CL = spec['Set_Dim_A_Max'][3]\n",
    "Set_Dim_A_UCL = spec['Set_Dim_A_Max'][4]\n",
    "Set_Dim_A_2UCL = spec['Set_Dim_A_Max'][5]\n",
    "Set_Dim_A_3UCL = spec['Set_Dim_A_Max'][6]\n",
    "\n",
    "\n",
    "Set_Dim_B_3LCL = spec['Set_Dim_B_Max'][0]\n",
    "Set_Dim_B_2LCL = spec['Set_Dim_B_Max'][1]\n",
    "Set_Dim_B_LCL = spec['Set_Dim_B_Max'][2]\n",
    "Set_Dim_B_CL = spec['Set_Dim_B_Max'][3]\n",
    "Set_Dim_B_UCL = spec['Set_Dim_B_Max'][4]\n",
    "Set_Dim_B_2UCL = spec['Set_Dim_B_Max'][5]\n",
    "Set_Dim_B_3UCL = spec['Set_Dim_B_Max'][6]\n",
    "\n",
    "Set_Dim_C_3LCL = spec['Set_Dim_C_Max'][0]\n",
    "Set_Dim_C_2LCL = spec['Set_Dim_C_Max'][1]\n",
    "Set_Dim_C_LCL = spec['Set_Dim_C_Max'][2]\n",
    "Set_Dim_C_CL = spec['Set_Dim_C_Max'][3]\n",
    "Set_Dim_C_UCL = spec['Set_Dim_C_Max'][4]\n",
    "Set_Dim_C_2UCL = spec['Set_Dim_C_Max'][5]\n",
    "Set_Dim_C_3UCL = spec['Set_Dim_C_Max'][6]\n",
    "\n",
    "\n",
    "Diecast_Pivot_2_3LCL = spec['Pivot_2_Max'][0]\n",
    "Diecast_Pivot_2_2LCL = spec['Pivot_2_Max'][1]\n",
    "Diecast_Pivot_2_LCL = spec['Pivot_2_Max'][2]\n",
    "Diecast_Pivot_2_CL = spec['Pivot_2_Max'][3]\n",
    "Diecast_Pivot_2_UCL = spec['Pivot_2_Max'][4]\n",
    "Diecast_Pivot_2_2UCL = spec['Pivot_2_Max'][5]\n",
    "Diecast_Pivot_2_3UCL = spec['Pivot_2_Max'][6]\n",
    "\n",
    "\n",
    "datasets['Datum_probe']=pd.cut(datasets['Datum_probe'],bins=[-np.inf, float(Datum_3LCL), float(Datum_2LCL), float(Datum_LCL), float(Datum_CL), float(Datum_UCL), float(Datum_2UCL), float(Datum_3UCL), np.inf],labels=[-4,-3,-2,-1,1,2,3,4])\n",
    "\n",
    "datasets['Max_force']=pd.cut(datasets['Max_force'],bins=[-np.inf, float(Max_3LCL), float(Max_2LCL), float(Max_LCL), float(Max_CL),float(Max_UCL),float(Max_2UCL),float(Max_3UCL), np.inf],labels=[-4,-3,-2,-1,1,2,3,4])\n",
    "\n",
    "datasets['Set_Dim_A']=pd.cut(datasets['Set_Dim_A'],bins=[-np.inf, float(Set_Dim_A_3LCL), float(Set_Dim_A_2LCL), float(Set_Dim_A_LCL),float(Set_Dim_A_CL),float(Set_Dim_A_UCL),float(Set_Dim_A_2UCL),float(Set_Dim_A_3UCL),np.inf],labels=[-4,-3,-2,-1,1,2,3,4])\n",
    "\n",
    "datasets['Set_Dim_B']=pd.cut(datasets['Set_Dim_B'],bins=[-np.inf, float(Set_Dim_B_3LCL), float(Set_Dim_B_2LCL), float(Set_Dim_B_LCL), float(Set_Dim_B_CL), Set_Dim_B_UCL, Set_Dim_B_2UCL, Set_Dim_B_3UCL, np.inf],labels=[-4,-3,-2,-1,1,2,3,4])\n",
    "\n",
    "datasets['Set_Dim_C']=pd.cut(datasets['Set_Dim_C'],bins=[-np.inf, float(Set_Dim_C_3LCL), float(Set_Dim_C_2LCL), float(Set_Dim_C_LCL), float(Set_Dim_C_CL), float(Set_Dim_C_UCL),float(Set_Dim_C_2UCL),float(Set_Dim_C_3UCL), np.inf],labels=[-4,-3,-2,-1,1,2,3,4])\n",
    "\n",
    "datasets['Diecast_Pivot_2']=pd.cut(datasets['Diecast_Pivot_2'],bins=[-np.inf, float(Diecast_Pivot_2_3LCL), float(Diecast_Pivot_2_2LCL),float(Diecast_Pivot_2_LCL),float(Diecast_Pivot_2_CL),float(Diecast_Pivot_2_UCL),float(Diecast_Pivot_2_2UCL),float(Diecast_Pivot_2_3UCL),np.inf],labels=[-4,-3,-2,-1,1,2,3,4])\n"
   ]
  },
  {
   "cell_type": "code",
   "execution_count": null,
   "metadata": {},
   "outputs": [
    {
     "data": {
      "text/html": [
       "<div>\n",
       "<style scoped>\n",
       "    .dataframe tbody tr th:only-of-type {\n",
       "        vertical-align: middle;\n",
       "    }\n",
       "\n",
       "    .dataframe tbody tr th {\n",
       "        vertical-align: top;\n",
       "    }\n",
       "\n",
       "    .dataframe thead th {\n",
       "        text-align: right;\n",
       "    }\n",
       "</style>\n",
       "<table border=\"1\" class=\"dataframe\">\n",
       "  <thead>\n",
       "    <tr style=\"text-align: right;\">\n",
       "      <th></th>\n",
       "      <th>Datum_probe</th>\n",
       "      <th>Max_force</th>\n",
       "      <th>Set_Dim_A</th>\n",
       "      <th>Set_Dim_B</th>\n",
       "      <th>Set_Dim_C</th>\n",
       "      <th>Diecast_Pivot_2</th>\n",
       "      <th>Projection1</th>\n",
       "    </tr>\n",
       "  </thead>\n",
       "  <tbody>\n",
       "    <tr>\n",
       "      <th>0</th>\n",
       "      <td>1</td>\n",
       "      <td>-3</td>\n",
       "      <td>-1</td>\n",
       "      <td>-1</td>\n",
       "      <td>-1</td>\n",
       "      <td>1</td>\n",
       "      <td>pass</td>\n",
       "    </tr>\n",
       "    <tr>\n",
       "      <th>1</th>\n",
       "      <td>1</td>\n",
       "      <td>-3</td>\n",
       "      <td>-1</td>\n",
       "      <td>1</td>\n",
       "      <td>1</td>\n",
       "      <td>1</td>\n",
       "      <td>pass</td>\n",
       "    </tr>\n",
       "    <tr>\n",
       "      <th>2</th>\n",
       "      <td>1</td>\n",
       "      <td>-2</td>\n",
       "      <td>-2</td>\n",
       "      <td>-1</td>\n",
       "      <td>1</td>\n",
       "      <td>-1</td>\n",
       "      <td>pass</td>\n",
       "    </tr>\n",
       "    <tr>\n",
       "      <th>3</th>\n",
       "      <td>1</td>\n",
       "      <td>-2</td>\n",
       "      <td>-2</td>\n",
       "      <td>-2</td>\n",
       "      <td>-1</td>\n",
       "      <td>-1</td>\n",
       "      <td>pass</td>\n",
       "    </tr>\n",
       "    <tr>\n",
       "      <th>4</th>\n",
       "      <td>1</td>\n",
       "      <td>-3</td>\n",
       "      <td>-2</td>\n",
       "      <td>-2</td>\n",
       "      <td>-1</td>\n",
       "      <td>-1</td>\n",
       "      <td>pass</td>\n",
       "    </tr>\n",
       "    <tr>\n",
       "      <th>...</th>\n",
       "      <td>...</td>\n",
       "      <td>...</td>\n",
       "      <td>...</td>\n",
       "      <td>...</td>\n",
       "      <td>...</td>\n",
       "      <td>...</td>\n",
       "      <td>...</td>\n",
       "    </tr>\n",
       "    <tr>\n",
       "      <th>199315</th>\n",
       "      <td>-2</td>\n",
       "      <td>-2</td>\n",
       "      <td>-1</td>\n",
       "      <td>1</td>\n",
       "      <td>-2</td>\n",
       "      <td>-1</td>\n",
       "      <td>fail</td>\n",
       "    </tr>\n",
       "    <tr>\n",
       "      <th>199316</th>\n",
       "      <td>-2</td>\n",
       "      <td>-2</td>\n",
       "      <td>-1</td>\n",
       "      <td>1</td>\n",
       "      <td>-2</td>\n",
       "      <td>-1</td>\n",
       "      <td>fail</td>\n",
       "    </tr>\n",
       "    <tr>\n",
       "      <th>199317</th>\n",
       "      <td>1</td>\n",
       "      <td>-2</td>\n",
       "      <td>-1</td>\n",
       "      <td>1</td>\n",
       "      <td>2</td>\n",
       "      <td>1</td>\n",
       "      <td>fail</td>\n",
       "    </tr>\n",
       "    <tr>\n",
       "      <th>199318</th>\n",
       "      <td>1</td>\n",
       "      <td>-2</td>\n",
       "      <td>-1</td>\n",
       "      <td>-1</td>\n",
       "      <td>2</td>\n",
       "      <td>-1</td>\n",
       "      <td>fail</td>\n",
       "    </tr>\n",
       "    <tr>\n",
       "      <th>199319</th>\n",
       "      <td>-2</td>\n",
       "      <td>-2</td>\n",
       "      <td>1</td>\n",
       "      <td>-1</td>\n",
       "      <td>2</td>\n",
       "      <td>1</td>\n",
       "      <td>fail</td>\n",
       "    </tr>\n",
       "  </tbody>\n",
       "</table>\n",
       "<p>199320 rows × 7 columns</p>\n",
       "</div>"
      ],
      "text/plain": [
       "       Datum_probe Max_force Set_Dim_A Set_Dim_B Set_Dim_C Diecast_Pivot_2  \\\n",
       "0                1        -3        -1        -1        -1               1   \n",
       "1                1        -3        -1         1         1               1   \n",
       "2                1        -2        -2        -1         1              -1   \n",
       "3                1        -2        -2        -2        -1              -1   \n",
       "4                1        -3        -2        -2        -1              -1   \n",
       "...            ...       ...       ...       ...       ...             ...   \n",
       "199315          -2        -2        -1         1        -2              -1   \n",
       "199316          -2        -2        -1         1        -2              -1   \n",
       "199317           1        -2        -1         1         2               1   \n",
       "199318           1        -2        -1        -1         2              -1   \n",
       "199319          -2        -2         1        -1         2               1   \n",
       "\n",
       "       Projection1  \n",
       "0             pass  \n",
       "1             pass  \n",
       "2             pass  \n",
       "3             pass  \n",
       "4             pass  \n",
       "...            ...  \n",
       "199315        fail  \n",
       "199316        fail  \n",
       "199317        fail  \n",
       "199318        fail  \n",
       "199319        fail  \n",
       "\n",
       "[199320 rows x 7 columns]"
      ]
     },
     "execution_count": 14,
     "metadata": {},
     "output_type": "execute_result"
    }
   ],
   "source": [
    "datasets"
   ]
  },
  {
   "cell_type": "code",
   "execution_count": null,
   "metadata": {},
   "outputs": [
    {
     "name": "stdout",
     "output_type": "stream",
     "text": [
      "              precision    recall  f1-score   support\n",
      "\n",
      "        fail       1.00      0.30      0.47     10031\n",
      "        pass       0.59      1.00      0.74      9901\n",
      "\n",
      "    accuracy                           0.65     19932\n",
      "   macro avg       0.79      0.65      0.60     19932\n",
      "weighted avg       0.79      0.65      0.60     19932\n",
      "\n"
     ]
    }
   ],
   "source": [
    "from pyarc import CBA, TransactionDB\n",
    "from sklearn.model_selection import train_test_split \n",
    "from sklearn.metrics import classification_report\n",
    "\n",
    "train, test = train_test_split(datasets, test_size=0.1)\n",
    "\n",
    "txns_train = TransactionDB.from_DataFrame(train)\n",
    "txns_test = TransactionDB.from_DataFrame(test)\n",
    "\n",
    "cba = CBA (support = 0.04, confidence = 0.7, algorithm ='m1')\n",
    "cba.fit(txns_train)\n",
    "\n",
    "y_pred = cba.predict(txns_test)\n",
    "y_test = test['Projection1']\n",
    "print ((classification_report(y_test,y_pred)))\n"
   ]
  },
  {
   "cell_type": "code",
   "execution_count": null,
   "metadata": {},
   "outputs": [
    {
     "data": {
      "text/plain": [
       "[CAR {Set_Dim_B=1,Set_Dim_A=1,Set_Dim_C=1} => {Projection1=pass} sup: 0.06 conf: 1.00 len: 4, id: 109,\n",
       " CAR {Max_force=-3,Set_Dim_A=1,Set_Dim_C=1} => {Projection1=pass} sup: 0.05 conf: 1.00 len: 4, id: 108,\n",
       " CAR {Set_Dim_C=3,Set_Dim_A=1,Datum_probe=1,Set_Dim_B=1,Max_force=-2} => {Projection1=fail} sup: 0.06 conf: 1.00 len: 6, id: 58,\n",
       " CAR {Set_Dim_B=1,Max_force=-2,Set_Dim_C=3,Set_Dim_A=1} => {Projection1=fail} sup: 0.06 conf: 1.00 len: 5, id: 59,\n",
       " CAR {Set_Dim_C=3,Datum_probe=1,Set_Dim_B=1,Max_force=-2,Diecast_Pivot_2=1} => {Projection1=fail} sup: 0.05 conf: 1.00 len: 6, id: 74,\n",
       " CAR {Set_Dim_B=1,Set_Dim_C=3,Set_Dim_A=-1} => {Projection1=fail} sup: 0.04 conf: 1.00 len: 4, id: 72,\n",
       " CAR {Datum_probe=1,Max_force=-2,Set_Dim_B=1,Set_Dim_C=3} => {Projection1=fail} sup: 0.08 conf: 1.00 len: 5, id: 75,\n",
       " CAR {Set_Dim_B=1,Max_force=-2,Diecast_Pivot_2=1,Set_Dim_C=3} => {Projection1=fail} sup: 0.05 conf: 1.00 len: 5, id: 76,\n",
       " CAR {Datum_probe=1,Set_Dim_B=1,Diecast_Pivot_2=1,Set_Dim_C=3} => {Projection1=fail} sup: 0.10 conf: 1.00 len: 5, id: 85,\n",
       " CAR {Datum_probe=1,Set_Dim_B=1,Set_Dim_C=3,Set_Dim_A=1} => {Projection1=fail} sup: 0.10 conf: 1.00 len: 5, id: 65,\n",
       " CAR {Set_Dim_B=1,Diecast_Pivot_2=1,Set_Dim_C=3} => {Projection1=fail} sup: 0.11 conf: 1.00 len: 4, id: 87,\n",
       " CAR {Datum_probe=1,Set_Dim_B=1,Set_Dim_C=3} => {Projection1=fail} sup: 0.14 conf: 1.00 len: 4, id: 86,\n",
       " CAR {Set_Dim_B=1,Set_Dim_C=3} => {Projection1=fail} sup: 0.15 conf: 1.00 len: 3, id: 88,\n",
       " CAR {Diecast_Pivot_2=1,Set_Dim_A=1,Set_Dim_C=1} => {Projection1=pass} sup: 0.06 conf: 1.00 len: 4, id: 111,\n",
       " CAR {Max_force=-3,Set_Dim_A=-1,Set_Dim_C=-1,Datum_probe=-2} => {Projection1=pass} sup: 0.05 conf: 1.00 len: 5, id: 24,\n",
       " CAR {Datum_probe=1,Set_Dim_B=1,Diecast_Pivot_2=1,Set_Dim_C=1} => {Projection1=pass} sup: 0.04 conf: 1.00 len: 5, id: 133,\n",
       " CAR {Set_Dim_C=1,Set_Dim_A=1,Datum_probe=-2} => {Projection1=pass} sup: 0.06 conf: 1.00 len: 4, id: 102,\n",
       " CAR {Set_Dim_C=-1,Set_Dim_B=-1,Datum_probe=-2} => {Projection1=pass} sup: 0.05 conf: 1.00 len: 4, id: 16,\n",
       " CAR {Datum_probe=1,Set_Dim_A=1,Set_Dim_C=1} => {Projection1=pass} sup: 0.04 conf: 1.00 len: 4, id: 110,\n",
       " CAR {Set_Dim_A=1,Set_Dim_C=1} => {Projection1=pass} sup: 0.10 conf: 1.00 len: 3, id: 112,\n",
       " CAR {Set_Dim_C=-1,Set_Dim_B=-1,Set_Dim_A=-1} => {Projection1=pass} sup: 0.05 conf: 1.00 len: 4, id: 17,\n",
       " CAR {Diecast_Pivot_2=1,Set_Dim_C=1,Datum_probe=-2} => {Projection1=pass} sup: 0.07 conf: 0.99 len: 4, id: 106,\n",
       " CAR {Set_Dim_B=1,Diecast_Pivot_2=1,Set_Dim_C=1} => {Projection1=pass} sup: 0.08 conf: 0.99 len: 4, id: 135,\n",
       " CAR {Max_force=-3,Diecast_Pivot_2=1,Set_Dim_C=1} => {Projection1=pass} sup: 0.08 conf: 0.99 len: 4, id: 131,\n",
       " CAR {Datum_probe=1,Set_Dim_B=1,Set_Dim_C=1} => {Projection1=pass} sup: 0.07 conf: 0.99 len: 4, id: 134,\n",
       " CAR {Set_Dim_C=3,Set_Dim_A=-1} => {Projection1=fail} sup: 0.04 conf: 0.99 len: 3, id: 73]"
      ]
     },
     "execution_count": 16,
     "metadata": {},
     "output_type": "execute_result"
    }
   ],
   "source": [
    "cba.clf.rules"
   ]
  },
  {
   "cell_type": "code",
   "execution_count": null,
   "metadata": {},
   "outputs": [],
   "source": [
    "datasp =(classification_report(y_test,y_pred))"
   ]
  },
  {
   "cell_type": "code",
   "execution_count": null,
   "metadata": {},
   "outputs": [
    {
     "name": "stdout",
     "output_type": "stream",
     "text": [
      "displaying the dataframe with data as record\n",
      "         Date       Line   Model       Details Procision recall f1_score  \\\n",
      "0  2023-06-19  TEST_3-14  LONGSP          fail      1.00   0.30     0.47   \n",
      "1  2023-06-19  TEST_3-14  LONGSP          pass      0.59   1.00     0.74   \n",
      "2  2023-06-19  TEST_3-14  LONGSP      accuracy                      0.65   \n",
      "3  2023-06-19  TEST_3-14  LONGSP     macro avg      0.59   0.65     0.60   \n",
      "4  2023-06-19  TEST_3-14  LONGSP  weighted avg      0.79   0.65     0.60   \n",
      "\n",
      "    support  \n",
      "0     10031  \n",
      "1      9901  \n",
      "2     19932  \n",
      "3     19932  \n",
      "4     19932  \n",
      "-------------------------------Converting into csv file with a new a new file name ------------------------------------\n"
     ]
    }
   ],
   "source": [
    "from pandas import DataFrame\n",
    "\n",
    "data1 ={\n",
    "'Date':str(Date),\n",
    "'Line':Line,\n",
    "'Model':Model,\n",
    "'Details':[(datasp[63:67]),(datasp[117:121]),(datasp[168:176]),(datasp[221:230]),(datasp[272:284])\n",
    "],\n",
    "'Procision':[datasp[74:78],datasp[128:132],(''),datasp[128:132],datasp[237:241]\n",
    "],\n",
    "'recall':[datasp[84:88],datasp[138:142],(''),datasp[247:251],datasp[301:305]\n",
    "],\n",
    "'f1_score':[datasp[94:98],datasp[148:152],(datasp[203:207]),datasp[257:261],datasp[311:315]\n",
    "],\n",
    "\n",
    "'support':[datasp[103:108],datasp[157:162],datasp[209:217],datasp[265:271],datasp[319:325]\n",
    "],\n",
    "}\n",
    "dff = pd.DataFrame(data1,columns=['Date','Line','Model','Details','Procision','recall','f1_score','support'])\n",
    "print(\"displaying the dataframe with data as record\")\n",
    "print(dff)\n",
    "print(\"-------------------------------Converting into csv file with a new a new file name ------------------------------------\")\n",
    "# df.to_csv(\"C:\\\\Users\\\\IT\\\\Desktop\\\\Date ML\\\\Accuracy ML\\\\LSP3-14 Accuracy.csv\")\n",
    "# df=pd.read_csv(\"C:\\\\Users\\\\IT\\\\Desktop\\\\Date ML\\\\Accuracy ML\\\\LSP3-14 Accuracy.csv\")\n",
    "# print(df)"
   ]
  },
  {
   "cell_type": "code",
   "execution_count": null,
   "metadata": {},
   "outputs": [],
   "source": [
    "import pyodbc\n",
    "import pandas as pd\n",
    "cnxn = pyodbc.connect('DRIVER={SQL Server};SERVER='+server+';DATABASE='+database+';UID='+username+';PWD='+ password)\n",
    "cursor = cnxn.cursor()\n",
    "# Insert Dataframe into SQL Server:\n",
    "for index, row in dff.iterrows():\n",
    "\n",
    "     cursor.execute(\"INSERT INTO [DataforAnalysis].[dbo].[accuracyDataML_Test] (Date,Line,Model,Details,Procision,recall,f1_score,support) values ('\"+row.Date+\"','\"+row.Line+\"','\"+row.Model+\"','\"+row.Details+\"','\"+row.Procision+\"','\"+row.recall+\"','\"+row.f1_score+\"','\"+row.support+\"')\")\n",
    "     # ,(row.Date,row.betweenDate,row.Model,)Procision\n",
    "                    # ('\"+row.Date+\"','\"+row.betweenDate+\"','\"+row.Model+\"','\"+row.Line+\"','\"+row.Datum_probe+\"','\"+ a +\"','\"+row.Set_Dim_A+\"','\"+row.Set_Dim_B+\"','\"+row.Set_Dim_C+\"','\"+row.Diecast_Pivot_2+\"','\"+row.Projection+\"','\"+row.Support+\"','\"+row.Confidence+\"')\")\n",
    "cnxn.commit()\n",
    "cursor.close()"
   ]
  },
  {
   "cell_type": "code",
   "execution_count": null,
   "metadata": {},
   "outputs": [],
   "source": [
    "cba1 =cba.clf.rules"
   ]
  },
  {
   "cell_type": "code",
   "execution_count": null,
   "metadata": {},
   "outputs": [
    {
     "name": "stdout",
     "output_type": "stream",
     "text": [
      "[' ', ' Set_Dim_B=1,Set_Dim_A=1,Set_Dim_C=1 => pass sup: 0.06 conf: 1.00 len: 4, id: 109', ' Max_force=-3,Set_Dim_A=1,Set_Dim_C=1 => pass sup: 0.05 conf: 1.00 len: 4, id: 108', ' Set_Dim_C=3,Set_Dim_A=1,Datum_probe=1,Set_Dim_B=1,Max_force=-2 => fail sup: 0.06 conf: 1.00 len: 6, id: 58', ' Set_Dim_B=1,Max_force=-2,Set_Dim_C=3,Set_Dim_A=1 => fail sup: 0.06 conf: 1.00 len: 5, id: 59', ' Set_Dim_C=3,Datum_probe=1,Set_Dim_B=1,Max_force=-2,Diecast_Pivot_2=1 => fail sup: 0.05 conf: 1.00 len: 6, id: 74', ' Set_Dim_B=1,Set_Dim_C=3,Set_Dim_A=-1 => fail sup: 0.04 conf: 1.00 len: 4, id: 72', ' Datum_probe=1,Max_force=-2,Set_Dim_B=1,Set_Dim_C=3 => fail sup: 0.08 conf: 1.00 len: 5, id: 75', ' Set_Dim_B=1,Max_force=-2,Diecast_Pivot_2=1,Set_Dim_C=3 => fail sup: 0.05 conf: 1.00 len: 5, id: 76', ' Datum_probe=1,Set_Dim_B=1,Diecast_Pivot_2=1,Set_Dim_C=3 => fail sup: 0.10 conf: 1.00 len: 5, id: 85', ' Datum_probe=1,Set_Dim_B=1,Set_Dim_C=3,Set_Dim_A=1 => fail sup: 0.10 conf: 1.00 len: 5, id: 65', ' Set_Dim_B=1,Diecast_Pivot_2=1,Set_Dim_C=3 => fail sup: 0.11 conf: 1.00 len: 4, id: 87', ' Datum_probe=1,Set_Dim_B=1,Set_Dim_C=3 => fail sup: 0.14 conf: 1.00 len: 4, id: 86', ' Set_Dim_B=1,Set_Dim_C=3 => fail sup: 0.15 conf: 1.00 len: 3, id: 88', ' Diecast_Pivot_2=1,Set_Dim_A=1,Set_Dim_C=1 => pass sup: 0.06 conf: 1.00 len: 4, id: 111', ' Max_force=-3,Set_Dim_A=-1,Set_Dim_C=-1,Datum_probe=-2 => pass sup: 0.05 conf: 1.00 len: 5, id: 24', ' Datum_probe=1,Set_Dim_B=1,Diecast_Pivot_2=1,Set_Dim_C=1 => pass sup: 0.04 conf: 1.00 len: 5, id: 133', ' Set_Dim_C=1,Set_Dim_A=1,Datum_probe=-2 => pass sup: 0.06 conf: 1.00 len: 4, id: 102', ' Set_Dim_C=-1,Set_Dim_B=-1,Datum_probe=-2 => pass sup: 0.05 conf: 1.00 len: 4, id: 16', ' Datum_probe=1,Set_Dim_A=1,Set_Dim_C=1 => pass sup: 0.04 conf: 1.00 len: 4, id: 110', ' Set_Dim_A=1,Set_Dim_C=1 => pass sup: 0.10 conf: 1.00 len: 3, id: 112', ' Set_Dim_C=-1,Set_Dim_B=-1,Set_Dim_A=-1 => pass sup: 0.05 conf: 1.00 len: 4, id: 17', ' Diecast_Pivot_2=1,Set_Dim_C=1,Datum_probe=-2 => pass sup: 0.07 conf: 0.99 len: 4, id: 106', ' Set_Dim_B=1,Diecast_Pivot_2=1,Set_Dim_C=1 => pass sup: 0.08 conf: 0.99 len: 4, id: 135', ' Max_force=-3,Diecast_Pivot_2=1,Set_Dim_C=1 => pass sup: 0.08 conf: 0.99 len: 4, id: 131', ' Datum_probe=1,Set_Dim_B=1,Set_Dim_C=1 => pass sup: 0.07 conf: 0.99 len: 4, id: 134', ' Set_Dim_C=3,Set_Dim_A=-1 => fail sup: 0.04 conf: 0.99 len: 3, id: 73']\n"
     ]
    }
   ],
   "source": [
    "aa =\" \"\n",
    "dd=[]\n",
    "for  x in range(len(cba1)):\n",
    "    aa += str (cba1[x]).replace(\"{\",\"\").replace(\"}\",\"\").replace(\"Projection1=\",\"\")\n",
    "    dd=aa.split(\"CAR\")\n",
    "print(dd)"
   ]
  },
  {
   "cell_type": "code",
   "execution_count": null,
   "metadata": {},
   "outputs": [],
   "source": [
    "fid=[]\n",
    "fid01=[]\n",
    "Sup=[]\n",
    "Conf=[]\n",
    "for op in range(len(dd)):\n",
    "    dat=(dd[op].split())\n",
    "    fid+=(dat[0:1])\n",
    "    fid01+=dat[2:3]\n",
    "    Sup+=dat[4:5]\n",
    "    Conf+=dat[6:7]\n"
   ]
  },
  {
   "cell_type": "code",
   "execution_count": null,
   "metadata": {},
   "outputs": [],
   "source": [
    "my_array=[]\n",
    "ok =[]\n",
    "i=0\n",
    "while i < len(fid):\n",
    "    my_array+= fid[i].split()\n",
    "    ok +=[my_array[i]+','+'Null=Null'+','+'Null=Null'+','+'Null=Null'+','+'Null=Null']\n",
    "    i=i+1"
   ]
  },
  {
   "cell_type": "code",
   "execution_count": null,
   "metadata": {},
   "outputs": [],
   "source": [
    "Sp=[]\n",
    "KPIV1=[]\n",
    "KPIV2=[]\n",
    "KPIV3=[]\n",
    "KPIV4=[]\n",
    "for i in ok:\n",
    "    Sp1=i.split(',')\n",
    "    KPIV1+=[Sp1[0]]\n",
    "    KPIV2+=[Sp1[1]]\n",
    "    KPIV3+=[Sp1[2]]\n",
    "    KPIV4+=[Sp1[3]]\n",
    "\n",
    "KPIVOK=[KPIV1],[KPIV2],[KPIV3],[KPIV4]"
   ]
  },
  {
   "cell_type": "code",
   "execution_count": null,
   "metadata": {},
   "outputs": [],
   "source": [
    "dataok=[]\n",
    "for i in range(len(KPIVOK)):\n",
    "    dataok+=(KPIVOK[i])"
   ]
  },
  {
   "cell_type": "code",
   "execution_count": null,
   "metadata": {},
   "outputs": [],
   "source": [
    "sp1=[]\n",
    "for i in (dataok[0]):\n",
    "    sp1+=[(i.split('='))]\n",
    "\n",
    "sp2=[]\n",
    "for i in (dataok[1]):\n",
    "    sp2+=[(i.split('='))]\n",
    "\n",
    "sp3=[]\n",
    "for i in (dataok[2]):\n",
    "    sp3+=[(i.split('='))]\n",
    "\n",
    "sp4=[]\n",
    "for i in (dataok[3]):\n",
    "    sp4+=[(i.split('='))]"
   ]
  },
  {
   "cell_type": "code",
   "execution_count": null,
   "metadata": {},
   "outputs": [],
   "source": [
    "Cl1=[]\n",
    "for i in sp1:\n",
    "    Cl1+=([i[0]])\n",
    "\n",
    "Cl2=[]\n",
    "for i in sp1:\n",
    "    Cl2+=([i[1]])\n",
    "\n",
    "Cl3=[]\n",
    "for i in sp2:\n",
    "    Cl3+=([i[0]])\n",
    "\n",
    "Cl4=[]\n",
    "for i in sp2:\n",
    "    Cl4+=([i[1]])\n",
    "\n",
    "Cl5=[]\n",
    "for i in sp3:\n",
    "    Cl5+=([i[0]])\n",
    "\n",
    "Cl6=[]\n",
    "for i in sp3:\n",
    "    Cl6+=([i[1]])"
   ]
  },
  {
   "cell_type": "code",
   "execution_count": null,
   "metadata": {},
   "outputs": [
    {
     "name": "stdout",
     "output_type": "stream",
     "text": [
      "Set_Dim_C\n",
      "Set_Dim_C\n",
      "Datum_probe\n",
      "Set_Dim_C\n",
      "Set_Dim_B\n",
      "Set_Dim_A\n",
      "Set_Dim_B\n",
      "Diecast_Pivot_2\n",
      "Diecast_Pivot_2\n",
      "Set_Dim_C\n",
      "Set_Dim_C\n",
      "Set_Dim_C\n",
      "-\n",
      "Set_Dim_C\n",
      "Set_Dim_C\n",
      "Diecast_Pivot_2\n",
      "Datum_probe\n",
      "Datum_probe\n",
      "Set_Dim_C\n",
      "-\n",
      "Set_Dim_A\n",
      "Datum_probe\n",
      "Set_Dim_C\n",
      "Set_Dim_C\n",
      "Set_Dim_C\n",
      "-\n"
     ]
    }
   ],
   "source": [
    "for i in Cl5:\n",
    "    CL05=i.replace(\"Null\", \"-\")\n",
    "    print(CL05)\n"
   ]
  },
  {
   "cell_type": "code",
   "execution_count": null,
   "metadata": {},
   "outputs": [],
   "source": [
    "indexok=[]\n",
    "for i in range(len(my_array)):\n",
    "    indexok+=([i+1])"
   ]
  },
  {
   "cell_type": "code",
   "execution_count": null,
   "metadata": {},
   "outputs": [
    {
     "name": "stdout",
     "output_type": "stream",
     "text": [
      "displaying the dataframe with data as record\n",
      "          Date              betweenDate   Model       Line  Rangeindex  \\\n",
      "12  2023-06-19  2023-01-20 - 2023-06-18  LONGSP  TEST_3-14          13   \n",
      "11  2023-06-19  2023-01-20 - 2023-06-18  LONGSP  TEST_3-14          12   \n",
      "10  2023-06-19  2023-01-20 - 2023-06-18  LONGSP  TEST_3-14          11   \n",
      "9   2023-06-19  2023-01-20 - 2023-06-18  LONGSP  TEST_3-14          10   \n",
      "8   2023-06-19  2023-01-20 - 2023-06-18  LONGSP  TEST_3-14           9   \n",
      "7   2023-06-19  2023-01-20 - 2023-06-18  LONGSP  TEST_3-14           8   \n",
      "25  2023-06-19  2023-01-20 - 2023-06-18  LONGSP  TEST_3-14          26   \n",
      "5   2023-06-19  2023-01-20 - 2023-06-18  LONGSP  TEST_3-14           6   \n",
      "4   2023-06-19  2023-01-20 - 2023-06-18  LONGSP  TEST_3-14           5   \n",
      "3   2023-06-19  2023-01-20 - 2023-06-18  LONGSP  TEST_3-14           4   \n",
      "2   2023-06-19  2023-01-20 - 2023-06-18  LONGSP  TEST_3-14           3   \n",
      "6   2023-06-19  2023-01-20 - 2023-06-18  LONGSP  TEST_3-14           7   \n",
      "23  2023-06-19  2023-01-20 - 2023-06-18  LONGSP  TEST_3-14          24   \n",
      "22  2023-06-19  2023-01-20 - 2023-06-18  LONGSP  TEST_3-14          23   \n",
      "21  2023-06-19  2023-01-20 - 2023-06-18  LONGSP  TEST_3-14          22   \n",
      "20  2023-06-19  2023-01-20 - 2023-06-18  LONGSP  TEST_3-14          21   \n",
      "19  2023-06-19  2023-01-20 - 2023-06-18  LONGSP  TEST_3-14          20   \n",
      "18  2023-06-19  2023-01-20 - 2023-06-18  LONGSP  TEST_3-14          19   \n",
      "16  2023-06-19  2023-01-20 - 2023-06-18  LONGSP  TEST_3-14          17   \n",
      "15  2023-06-19  2023-01-20 - 2023-06-18  LONGSP  TEST_3-14          16   \n",
      "14  2023-06-19  2023-01-20 - 2023-06-18  LONGSP  TEST_3-14          15   \n",
      "13  2023-06-19  2023-01-20 - 2023-06-18  LONGSP  TEST_3-14          14   \n",
      "24  2023-06-19  2023-01-20 - 2023-06-18  LONGSP  TEST_3-14          25   \n",
      "1   2023-06-19  2023-01-20 - 2023-06-18  LONGSP  TEST_3-14           2   \n",
      "17  2023-06-19  2023-01-20 - 2023-06-18  LONGSP  TEST_3-14          18   \n",
      "0   2023-06-19  2023-01-20 - 2023-06-18  LONGSP  TEST_3-14           1   \n",
      "\n",
      "   Datum_probe Max_force Set_Dim_A Set_Dim_B Set_Dim_C Diecast_Pivot_2  \\\n",
      "12                                         1         3                   \n",
      "11           1                             1         3                   \n",
      "10                                         1         3               1   \n",
      "9            1                             1         3                   \n",
      "8            1                             1                         1   \n",
      "7                     -2                   1                         1   \n",
      "25                              -1                   3                   \n",
      "5                               -1         1         3                   \n",
      "4            1                             1         3                   \n",
      "3                     -2                   1         3                   \n",
      "2            1                   1                   3                   \n",
      "6            1        -2                   1                             \n",
      "23                    -3                             1               1   \n",
      "22                                         1         1               1   \n",
      "21          -2                                       1               1   \n",
      "20                              -1        -1        -1                   \n",
      "19                               1                   1                   \n",
      "18           1                   1                   1                   \n",
      "16          -2                   1                   1                   \n",
      "15           1                             1                         1   \n",
      "14                    -3        -1                  -1                   \n",
      "13                               1                   1               1   \n",
      "24           1                             1         1                   \n",
      "1                     -3         1                   1                   \n",
      "17          -2                            -1        -1                   \n",
      "0                                1         1         1                   \n",
      "\n",
      "   Projection Support Confidence  \n",
      "12       fail    0.15       1.00  \n",
      "11       fail    0.14       1.00  \n",
      "10       fail    0.11       1.00  \n",
      "9        fail    0.10       1.00  \n",
      "8        fail    0.10       1.00  \n",
      "7        fail    0.05       1.00  \n",
      "25       fail    0.04       0.99  \n",
      "5        fail    0.04       1.00  \n",
      "4        fail    0.05       1.00  \n",
      "3        fail    0.06       1.00  \n",
      "2        fail    0.06       1.00  \n",
      "6        fail    0.08       1.00  \n",
      "23       pass    0.08       0.99  \n",
      "22       pass    0.08       0.99  \n",
      "21       pass    0.07       0.99  \n",
      "20       pass    0.05       1.00  \n",
      "19       pass    0.10       1.00  \n",
      "18       pass    0.04       1.00  \n",
      "16       pass    0.06       1.00  \n",
      "15       pass    0.04       1.00  \n",
      "14       pass    0.05       1.00  \n",
      "13       pass    0.06       1.00  \n",
      "24       pass    0.07       0.99  \n",
      "1        pass    0.05       1.00  \n",
      "17       pass    0.05       1.00  \n",
      "0        pass    0.06       1.00  \n",
      "-------------------------------Converting into csv file with a new a new file name ------------------------------------\n"
     ]
    }
   ],
   "source": [
    "import pandas as pd\n",
    "indexok=[]\n",
    "for i in range(len(my_array)):\n",
    "    indexok+=([i+1])\n",
    "data ={\n",
    "'Date':Date,\n",
    "'betweenDate':str(Startdate)+' - '+str(finishDate),\n",
    "'Model':Model,\n",
    "'Line':Line,\n",
    "'Rangeindex':indexok,\n",
    "'Cl1':Cl1,\n",
    "'Cl2':Cl2,\n",
    "'Cl3':Cl3,\n",
    "'Cl4':Cl4,\n",
    "'Cl5':Cl5,\n",
    "'Cl6':Cl6,\n",
    "'Projection':fid01,\n",
    "'Support':Sup,\n",
    "'Confidence':Conf,}\n",
    "df = pd.DataFrame(data)\n",
    "\n",
    "df.loc[df['Cl1'] == 'Datum_probe', 'Datum_probe'] = df['Cl2']\n",
    "df.loc[df['Cl3'] == 'Datum_probe', 'Datum_probe'] = df['Cl4']\n",
    "df.loc[df['Cl5'] == 'Datum_probe', 'Datum_probe'] = df['Cl6']\n",
    "\n",
    "df.loc[df['Cl1'] == 'Max_force', 'Max_force'] = df['Cl2']\n",
    "df.loc[df['Cl3'] == 'Max_force', 'Max_force'] = df['Cl4']\n",
    "df.loc[df['Cl5'] == 'Max_force', 'Max_force'] = df['Cl6']\n",
    "\n",
    "df.loc[df['Cl1'] == 'Set_Dim_A', 'Set_Dim_A'] = df['Cl2']\n",
    "df.loc[df['Cl3'] == 'Set_Dim_A', 'Set_Dim_A'] = df['Cl4']\n",
    "df.loc[df['Cl5'] == 'Set_Dim_A', 'Set_Dim_A'] = df['Cl6']\n",
    "\n",
    "df.loc[df['Cl1'] == 'Set_Dim_B', 'Set_Dim_B'] = df['Cl2']\n",
    "df.loc[df['Cl3'] == 'Set_Dim_B', 'Set_Dim_B'] = df['Cl4']\n",
    "df.loc[df['Cl5'] == 'Set_Dim_B', 'Set_Dim_B'] = df['Cl6']\n",
    "\n",
    "df.loc[df['Cl1'] == 'Set_Dim_C', 'Set_Dim_C'] = df['Cl2']\n",
    "df.loc[df['Cl3'] == 'Set_Dim_C', 'Set_Dim_C'] = df['Cl4']\n",
    "df.loc[df['Cl5'] == 'Set_Dim_C', 'Set_Dim_C'] = df['Cl6']\n",
    "\n",
    "df.loc[df['Cl1'] == 'Diecast_Pivot_2', 'Diecast_Pivot_2'] = df['Cl2']\n",
    "df.loc[df['Cl3'] == 'Diecast_Pivot_2', 'Diecast_Pivot_2'] = df['Cl4']\n",
    "df.loc[df['Cl5'] == 'Diecast_Pivot_2', 'Diecast_Pivot_2'] = df['Cl6']\n",
    "\n",
    "df = df.sort_values('Projection')\n",
    "\n",
    "\n",
    "# for column\n",
    "# df['Datum_probe'] = df['Datum_probe'].replace(np.nan, 0)\n",
    "\n",
    "# for whole dataframe\n",
    "df = df.replace(np.nan, '')\n",
    "# inplace\n",
    "df.replace(np.nan, 0, inplace=True)\n",
    "\n",
    "df = pd.DataFrame(df,columns=['Date','betweenDate','Model','Line','Rangeindex','Datum_probe','Max_force','Set_Dim_A','Set_Dim_B','Set_Dim_C','Diecast_Pivot_2','Projection','Support','Confidence'])\n",
    "print(\"displaying the dataframe with data as record\")\n",
    "print(df)\n",
    "print(\"-------------------------------Converting into csv file with a new a new file name ------------------------------------\")\n",
    "# df.to_csv(\"C:\\\\Users\\\\IT\\\\Desktop\\\\3-6 KPIV.csv\")\n",
    "# df=pd.read_csv(\"C:\\\\Users\\\\IT\\\\Desktop\\\\3-6 KPIV.csv\")\n",
    "# print(df)\n"
   ]
  },
  {
   "cell_type": "code",
   "execution_count": null,
   "metadata": {},
   "outputs": [],
   "source": [
    "import pyodbc\n",
    "import pandas as pd\n",
    "cnxn = pyodbc.connect('DRIVER={SQL Server};SERVER='+server+';DATABASE='+database+';UID='+username+';PWD='+ password)\n",
    "cursor = cnxn.cursor()\n",
    "# Insert Dataframe into SQL Server:\n",
    "for index, row in df.iterrows():\n",
    "     cursor.execute(\"INSERT INTO [DataforAnalysis].[dbo].[Sample_Data_ML_TEST](Date,betweenDate,Model,Line,Rangeindex,Datum_probe,Max_force,Set_Dim_A,Set_Dim_B,Set_Dim_C,Diecast_Pivot_2,Projection,Support,Confidence) values ('\"+str(row.Date)+\"','\"+row.betweenDate+\"','\"+row.Model+\"','\"+row.Line+\"','\"+str(row.Rangeindex)+\"','\"+str(row.Datum_probe)+\"','\"+str(row.Max_force)+\"','\"+str(row.Set_Dim_A)+\"','\"+str(row.Set_Dim_B)+\"','\"+str(row.Set_Dim_C)+\"','\"+str(row.Diecast_Pivot_2)+\"','\"+str(row.Projection)+\"','\"+str(row.Support)+\"','\"+str(row.Confidence)+\"')\")\n",
    "     # ,(row.Date,row.betweenDate,row.Model,)\n",
    "                    # ('\"+row.Date+\"','\"+row.betweenDate+\"','\"+row.Model+\"','\"+row.Line+\"','\"+row.Datum_probe+\"','\"+ a +\"','\"+row.Set_Dim_A+\"','\"+row.Set_Dim_B+\"','\"+row.Set_Dim_C+\"','\"+row.Diecast_Pivot_2+\"','\"+row.Projection+\"','\"+row.Support+\"','\"+row.Confidence+\"')\")\n",
    "cnxn.commit()\n",
    "cursor.close()"
   ]
  }
 ],
 "metadata": {
  "kernelspec": {
   "display_name": "Python 3",
   "language": "python",
   "name": "python3"
  },
  "language_info": {
   "codemirror_mode": {
    "name": "ipython",
    "version": 3
   },
   "file_extension": ".py",
   "mimetype": "text/x-python",
   "name": "python",
   "nbconvert_exporter": "python",
   "pygments_lexer": "ipython3",
   "version": "3.10.11"
  },
  "orig_nbformat": 4,
  "vscode": {
   "interpreter": {
    "hash": "99e4a2a19c08b165697a52cd79a4815ca9063c5131d2540ea9514263faee8422"
   }
  }
 },
 "nbformat": 4,
 "nbformat_minor": 2
}
