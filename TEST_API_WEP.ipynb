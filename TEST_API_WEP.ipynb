{
 "cells": [
  {
   "cell_type": "code",
   "execution_count": 7,
   "metadata": {},
   "outputs": [
    {
     "name": "stdout",
     "output_type": "stream",
     "text": [
      " * Serving Flask app '__main__'\n",
      " * Debug mode: on\n"
     ]
    },
    {
     "name": "stderr",
     "output_type": "stream",
     "text": [
      "WARNING: This is a development server. Do not use it in a production deployment. Use a production WSGI server instead.\n",
      " * Running on http://127.0.0.1:5000\n",
      "Press CTRL+C to quit\n",
      " * Restarting with watchdog (windowsapi)\n"
     ]
    },
    {
     "ename": "SystemExit",
     "evalue": "1",
     "output_type": "error",
     "traceback": [
      "An exception has occurred, use %tb to see the full traceback.\n",
      "\u001b[1;31mSystemExit\u001b[0m\u001b[1;31m:\u001b[0m 1\n"
     ]
    }
   ],
   "source": [
    "from flask import Flask, request\n",
    "import pandas as pd\n",
    "import pyodbc\n",
    "import pandas as pd\n",
    "\n",
    "# Connect to the SQL Server database\n",
    "server = '192.168.101.219'\n",
    "database = 'DataforAnalysis'\n",
    "username = 'DATALYZER'\n",
    "password = 'NMB54321'\n",
    "\n",
    "cnxn = pyodbc.connect('DRIVER={SQL Server};SERVER='+server+';DATABASE='+database+';UID='+username+';PWD='+ password)\n",
    "cursor = cnxn.cursor()\n",
    "app = Flask(__name__)\n",
    "\n",
    "@app.route('/api/data', methods=['GET'])\n",
    "def get_data():\n",
    "    # รับค่าจาก query parameters ในคำขอ HTTP GET\n",
    "    model = request.args.get('model')\n",
    "    Line = request.args.get('Line')\n",
    "    start = request.args.get('start')\n",
    "    end = request.args.get('end')\n",
    "\n",
    "    # ตรวจสอบว่าค่าที่รับมาไม่ว่างเปล่าหรือไม่\n",
    "    if not model or not Line or not start or not end:\n",
    "        return \"Missing required parameters\", 400  # ส่งคำตอบผิดพลาดหากค่าไม่ถูกต้อง\n",
    "\n",
    "    # รับค่าจาก API และนำมาใช้ในการสร้าง query SQL\n",
    "    api_data = [\"Projection1\", \"Datum_probe\", \"Max_force\", \"Set_Dim_A\", \"Set_Dim_B\", \"Set_Dim_C\"]\n",
    "    \n",
    "    query = f\"\"\"\n",
    "    SELECT {', '.join(api_data)}\n",
    "    FROM your_table\n",
    "    WHERE [DataML_Test].[Model] = '{model}' \n",
    "    AND [DataML_Test].[Line] = '{Line}' \n",
    "    AND [DataML_Test].[Date] BETWEEN '{start}' and '{end}'\n",
    "    AND ([Projection1] is not null and [Datum_probe] is not null and [Max_force] is not null and\n",
    "         [Set_Dim_A] is not null and [Set_Dim_B] is not null and [Set_Dim_C] is not null and\n",
    "         [Diecast_Pivot_2] is not null) and [Projection1] != '0' and [Projection1] > 0 and [Projection1] < 1;\n",
    "    \"\"\"\n",
    "    datasets = pd.read_sql(query, cnxn)\n",
    "    # ส่ง query ไปยังฐานข้อมูลและดึงผลลัพธ์\n",
    "\n",
    "    # คืนค่าผลลัพธ์ให้กับผู้ใช้\n",
    "    return datasets\n",
    "\n",
    "if __name__ == '__main__':\n",
    "    app.run(debug=True)\n"
   ]
  },
  {
   "cell_type": "code",
   "execution_count": 10,
   "metadata": {},
   "outputs": [
    {
     "name": "stdout",
     "output_type": "stream",
     "text": [
      " * Serving Flask app '__main__'\n",
      " * Debug mode: on\n"
     ]
    },
    {
     "name": "stderr",
     "output_type": "stream",
     "text": [
      "WARNING: This is a development server. Do not use it in a production deployment. Use a production WSGI server instead.\n",
      " * Running on http://127.0.0.1:5000\n",
      "Press CTRL+C to quit\n",
      " * Restarting with watchdog (windowsapi)\n"
     ]
    },
    {
     "ename": "SystemExit",
     "evalue": "1",
     "output_type": "error",
     "traceback": [
      "An exception has occurred, use %tb to see the full traceback.\n",
      "\u001b[1;31mSystemExit\u001b[0m\u001b[1;31m:\u001b[0m 1\n"
     ]
    }
   ],
   "source": [
    "from flask import Flask, request\n",
    "import pandas as pd\n",
    "import pyodbc\n",
    "import pandas as pd\n",
    "\n",
    "# Connect to the SQL Server database\n",
    "server = '192.168.101.219'\n",
    "database = 'DataforAnalysis'\n",
    "username = 'DATALYZER'\n",
    "password = 'NMB54321'\n",
    "\n",
    "cnxn = pyodbc.connect('DRIVER={SQL Server};SERVER='+server+';DATABASE='+database+';UID='+username+';PWD='+ password)\n",
    "cursor = cnxn.cursor()\n",
    "app = Flask(__name__)\n",
    "\n",
    "@app.route('/api/data/<model>/<Line>/<start>/<end>', methods=['GET'])\n",
    "def get_data(model, Line, start, end):\n",
    "\n",
    "    # รับค่าจาก API และนำมาใส่ในตัวแปร api_data\n",
    "    api_data = [\"Projection1\", \"Datum_probe\", \"Max_force\", \"Set_Dim_A\", \"Set_Dim_B\", \"Set_Dim_C\"]\n",
    "\n",
    "    # ใช้ค่าที่รับมาจาก API ในการสร้าง query SQL\n",
    "    query = f\"\"\"\n",
    "    SELECT {', '.join(api_data)}\n",
    "    FROM [Diecast].[dbo].[Pivot]\n",
    "    WHERE [DataML_Test].[Model] = '{model}' \n",
    "    AND [DataML_Test].[Line] = '{Line}' \n",
    "    AND [DataML_Test].[Date] BETWEEN '{start}' and '{end}'\n",
    "    AND ([Projection1] is not null and [Datum_probe] is not null and [Max_force] is not null and\n",
    "         [Set_Dim_A] is not null and [Set_Dim_B] is not null and [Set_Dim_C] is not null and\n",
    "         [Diecast_Pivot_2] is not null) and [Projection1] != '0' and [Projection1] > 0 and [Projection1] < 1;\n",
    "    \"\"\"\n",
    "    datasets = pd.read_sql(query, cnxn)\n",
    "    # print(datasets.head(100000))\n",
    "    # ส่ง query ไปยังฐานข้อมูลและดึงผลลัพธ์\n",
    "\n",
    "    # คืนค่าผลลัพธ์ให้กับผู้ใช้\n",
    "    return datasets\n",
    "\n",
    "if __name__ == '__main__':\n",
    "    app.run(debug=True)\n"
   ]
  },
  {
   "cell_type": "code",
   "execution_count": 13,
   "metadata": {},
   "outputs": [],
   "source": [
    "import os\n",
    "\n",
    "def find_jan_directories(base_directory):\n",
    "    try:\n",
    "        jan_directories = []\n",
    "\n",
    "        # ใช้ os.walk เพื่อดึงรายการโฟลเดอร์และไฟล์ทั้งหมด\n",
    "        for root, dirs, files in os.walk(base_directory):\n",
    "            # ตรวจสอบว่าโฟลเดอร์ 'Jan' อยู่ใน dirs หรือไม่\n",
    "            if 'Jan' in dirs:\n",
    "                jan_directory_path = os.path.join(root, 'Jan')\n",
    "                jan_directories.append(jan_directory_path)\n",
    "\n",
    "        if jan_directories:\n",
    "            print(\"โฟลเดอร์ที่มีชื่อเดือน Jan:\")\n",
    "            for jan_directory in jan_directories:\n",
    "                print(f\"  {jan_directory}\")\n",
    "        else:\n",
    "            print(\"ไม่พบโฟลเดอร์ที่มีชื่อเดือน Jan\")\n",
    "\n",
    "    except Exception as e:\n",
    "        print(f\"เกิดข้อผิดพลาด: {str(e)}\")\n",
    "        return None\n",
    "\n",
    "# ระบุที่อยู่หลักของโฟลเดอร์\n",
    "base_directory = '\\\\\\\\192.168.105.90\\\\spd\\\\Keep_image'\n",
    "\n",
    "# เรียกใช้ฟังก์ชั่นและแสดงผลลัพธ์\n",
    "find_jan_directories(base_directory)\n"
   ]
  }
 ],
 "metadata": {
  "kernelspec": {
   "display_name": "Python 3",
   "language": "python",
   "name": "python3"
  },
  "language_info": {
   "codemirror_mode": {
    "name": "ipython",
    "version": 3
   },
   "file_extension": ".py",
   "mimetype": "text/x-python",
   "name": "python",
   "nbconvert_exporter": "python",
   "pygments_lexer": "ipython3",
   "version": "3.10.11"
  },
  "orig_nbformat": 4
 },
 "nbformat": 4,
 "nbformat_minor": 2
}
