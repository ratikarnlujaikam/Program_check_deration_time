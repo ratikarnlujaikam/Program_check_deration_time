{
 "cells": [
  {
   "cell_type": "code",
   "execution_count": 25,
   "metadata": {},
   "outputs": [],
   "source": [
    "import pandas as pd\n",
    "import numpy as np"
   ]
  },
  {
   "cell_type": "code",
   "execution_count": 26,
   "metadata": {},
   "outputs": [],
   "source": [
    "datasets = pd.read_csv('../datasets/Master_static.csv')"
   ]
  },
  {
   "cell_type": "code",
   "execution_count": 27,
   "metadata": {},
   "outputs": [
    {
     "name": "stdout",
     "output_type": "stream",
     "text": [
      "displaying the dataframe with data as record\n",
      "     Model Line_No_WR  Machine_No Remark\n",
      "0   3SEBBF        NaN         NaN  NORUN\n",
      "1   3SEFCC        NaN         NaN  NORUN\n",
      "2   3SEFDB        NaN         NaN  NORUN\n",
      "3   3SESIN        NaN         NaN  NORUN\n",
      "4   3TOFCC        NaN         NaN  NORUN\n",
      "5   AVENGE         B3  FB-004-021    NaN\n",
      "6   BACALL        NaN         NaN  NORUN\n",
      "7   CIMAR3        NaN         NaN  NORUN\n",
      "8   CIMAR5         B5  FB-004-054    NaN\n",
      "9   CIMBP3        C13  FB-004-062    NaN\n",
      "10  CIMBP3        B13  FB-004-049    NaN\n",
      "11  CIMBP4         C6  FB-004-074    NaN\n",
      "12  CIMBP4         C7  FB-004-073    NaN\n",
      "13  CIMBP5        NaN         NaN  NORUN\n",
      "14  EAGRBP        NaN         NaN  NORUN\n",
      "15  EVANBP        B14  FB-004-053    NaN\n",
      "16  EVANBP        B15  FB-004-084    NaN\n",
      "17  EVANBP        C14  FB-004-008    NaN\n",
      "18  EVANBP        B16  FB-004-070    NaN\n",
      "19  HEPSIS        NaN         NaN  NORUN\n",
      "20  KEST12        B11  FB-004-010    NaN\n",
      "21  KEST3D        NaN         NaN  NORUN\n",
      "22  LONGSP        B17  FB-004-051    NaN\n",
      "23  LONGSP        B20  FB-004-075    NaN\n",
      "24  LONGSP        B21  FB-004-052    NaN\n",
      "25  LUMSIN        NaN         NaN  NORUN\n",
      "26  M11P5D         C9  FB-004-079    NaN\n",
      "27  MARL10        B19  FB-004-007    NaN\n",
      "28  OSPREY        NaN         NaN  NORUN\n",
      "29  PHASIS        C15  FB-004-081    NaN\n",
      "30  ROSE1L         C1  FB-004-030    NaN\n",
      "31  ROSE1L         B6  FB-004-078    NaN\n",
      "32  ROSE1L   MC SPARE  FB-004-064    NaN\n",
      "33  ROSE2D         C2  FB-004-053    NaN\n",
      "34  ROSE2D         C3  FB-004-065    NaN\n",
      "35  ROSE2D   MC SPARE  FB-004-006    NaN\n",
      "36  SKB1ST         C8  FB-004-058    NaN\n",
      "37  SKB2ST         C8  FB-004-058    NaN\n",
      "38  SKYBO3        B10  FB-004-063    NaN\n",
      "39  SKYBO4         B2  FB-004-028    NaN\n",
      "40  SUMMIT        B18  FB-004-072    NaN\n",
      "41  TRESXL        NaN         NaN  NORUN\n",
      "42  V11 1D        C12  FB-189-001    NaN\n",
      "43  V11 1D        C10  FB-004-014    NaN\n",
      "44  V11 2D         C4  FB-004-016    NaN\n",
      "45  V11 2D         C5  FB-004-039    NaN\n",
      "46  V11 4D        C16  FB-004-082    NaN\n",
      "47  V15C1D        C11  FB-004-003    NaN\n",
      "48  V15C2D         C4  FB-004-016    NaN\n",
      "49  V15C2D         C5  FB-004-039    NaN\n",
      "50  V15C4D        NaN         NaN  NORUN\n",
      "51   V9 3D        NaN         NaN  NORUN\n",
      "52   V9S3D        NaN         NaN  NORUN\n",
      "53  VRVADE        NaN         NaN  NORUN\n",
      "-------------------------------Converting into csv file with a new a new file name ------------------------------------\n"
     ]
    }
   ],
   "source": [
    "from pandas import DataFrame\n",
    "\n",
    "datasets ={\n",
    "'Model':datasets['Model'],\n",
    "'Line_No_WR':datasets['Line'],\n",
    "'Machine_No':datasets['M/C'],\n",
    "'Remark':datasets['MODEL_NO_MASTER'],\n",
    "}\n",
    "datasets = pd.DataFrame(datasets,columns=['Model','Line_No_WR','Machine_No','Remark'])\n",
    "print(\"displaying the dataframe with data as record\")\n",
    "print(datasets)\n",
    "print(\"-------------------------------Converting into csv file with a new a new file name ------------------------------------\")\n",
    "# datasets.to_csv(\"C:\\\\Users\\\\IT\\\\Desktop\\\\TEST1.csv\")\n",
    "# dff1=pd.read_csv(\"C:\\\\Users\\\\IT\\\\Desktop\\\\Date ML\\\\LSP3-10 Accuracy.csv\")\n",
    "# print(dff1)"
   ]
  },
  {
   "cell_type": "code",
   "execution_count": 21,
   "metadata": {},
   "outputs": [],
   "source": [
    "import pyodbc\n",
    "import pandas as pd\n",
    "# insert data from csv file into dataframe.\n",
    "# working directory for csv file: type \"pwd\" in Azure Data Studio or Linux\n",
    "# working directory in Windows c:\\users\\username\n",
    "# Some other example server values are\n",
    "# server = 'localhost\\sqlexpress' # for a named instance\n",
    "# server = 'myserver,port' # to specify an alternate port\n",
    "server = '192.168.101.219' \n",
    "database = 'DataforAnalysis' \n",
    "username = 'DATALYZER' \n",
    "password = 'NMB54321'  \n",
    "cnxn = pyodbc.connect('DRIVER={SQL Server};SERVER='+server+';DATABASE='+database+';UID='+username+';PWD='+ password)\n",
    "cursor = cnxn.cursor()\n",
    "# Insert Dataframe into SQL Server:\n",
    "for index, row in datasets.iterrows():\n",
    "     cursor.execute(\"INSERT INTO [DataforAnalysis].[dbo].[Master_MC] (Model,Line_No_WR,Machine_No,Remark) values ('\"+str(row.Model)+\"','\"+str(row.Line_No_WR)+\"','\"+str(row.Machine_No)+\"','\"+str(row.Remark)+\"')\")\n",
    "\n",
    "cnxn.commit()\n",
    "cursor.close()"
   ]
  },
  {
   "cell_type": "markdown",
   "metadata": {},
   "source": []
  },
  {
   "cell_type": "code",
   "execution_count": 29,
   "metadata": {},
   "outputs": [
    {
     "name": "stdout",
     "output_type": "stream",
     "text": [
      "    Model  Line_No_WR  Machine_No  Remark\n",
      "0   False        True        True   False\n",
      "1   False        True        True   False\n",
      "2   False        True        True   False\n",
      "3   False        True        True   False\n",
      "4   False        True        True   False\n",
      "5   False       False       False    True\n",
      "6   False        True        True   False\n",
      "7   False        True        True   False\n",
      "8   False       False       False    True\n",
      "9   False       False       False    True\n",
      "10  False       False       False    True\n",
      "11  False       False       False    True\n",
      "12  False       False       False    True\n",
      "13  False        True        True   False\n",
      "14  False        True        True   False\n",
      "15  False       False       False    True\n",
      "16  False       False       False    True\n",
      "17  False       False       False    True\n",
      "18  False       False       False    True\n",
      "19  False        True        True   False\n",
      "20  False       False       False    True\n",
      "21  False        True        True   False\n",
      "22  False       False       False    True\n",
      "23  False       False       False    True\n",
      "24  False       False       False    True\n",
      "25  False        True        True   False\n",
      "26  False       False       False    True\n",
      "27  False       False       False    True\n",
      "28  False        True        True   False\n",
      "29  False       False       False    True\n",
      "30  False       False       False    True\n",
      "31  False       False       False    True\n",
      "32  False       False       False    True\n",
      "33  False       False       False    True\n",
      "34  False       False       False    True\n",
      "35  False       False       False    True\n",
      "36  False       False       False    True\n",
      "37  False       False       False    True\n",
      "38  False       False       False    True\n",
      "39  False       False       False    True\n",
      "40  False       False       False    True\n",
      "41  False        True        True   False\n",
      "42  False       False       False    True\n",
      "43  False       False       False    True\n",
      "44  False       False       False    True\n",
      "45  False       False       False    True\n",
      "46  False       False       False    True\n",
      "47  False       False       False    True\n",
      "48  False       False       False    True\n",
      "49  False       False       False    True\n",
      "50  False        True        True   False\n",
      "51  False        True        True   False\n",
      "52  False        True        True   False\n",
      "53  False        True        True   False\n"
     ]
    }
   ],
   "source": [
    "import pandas as pd\n",
    "\n",
    "# Assuming you have a DataFrame named 'df'\n",
    "# Checking for NaN values\n",
    "nan_df = datasets.isna()\n",
    "print(nan_df)\n"
   ]
  }
 ],
 "metadata": {
  "kernelspec": {
   "display_name": "Python 3",
   "language": "python",
   "name": "python3"
  },
  "language_info": {
   "codemirror_mode": {
    "name": "ipython",
    "version": 3
   },
   "file_extension": ".py",
   "mimetype": "text/x-python",
   "name": "python",
   "nbconvert_exporter": "python",
   "pygments_lexer": "ipython3",
   "version": "3.10.11"
  },
  "orig_nbformat": 4,
  "vscode": {
   "interpreter": {
    "hash": "99e4a2a19c08b165697a52cd79a4815ca9063c5131d2540ea9514263faee8422"
   }
  }
 },
 "nbformat": 4,
 "nbformat_minor": 2
}
